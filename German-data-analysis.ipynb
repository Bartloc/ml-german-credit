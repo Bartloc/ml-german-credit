{
 "cells": [
  {
   "cell_type": "code",
   "execution_count": 50,
   "metadata": {},
   "outputs": [],
   "source": [
    "#Importing necessary packages in Python \n",
    "%matplotlib inline \n",
    "import matplotlib.pyplot as plt \n",
    "\n",
    "import numpy as np ; np.random.seed(sum(map(ord, \"aesthetics\")))\n",
    "import pandas as pd\n",
    "\n",
    "from sklearn.datasets import make_classification \n",
    "#from sklearn.learning_curve import learning_curve \n",
    "#from sklearn.cross_validation import train_test_split \n",
    "#from sklearn.grid_search import GridSearchCV\n",
    "#from sklearn.cross_validation import ShuffleSplit\n",
    "from sklearn.metrics import classification_report,confusion_matrix, roc_curve, roc_auc_score, auc, accuracy_score\n",
    "from sklearn.model_selection import ShuffleSplit,train_test_split, cross_val_score, GridSearchCV\n",
    "from sklearn.preprocessing import OneHotEncoder, LabelEncoder, label_binarize, StandardScaler, MinMaxScaler\n",
    "\n",
    "import seaborn \n",
    "seaborn.set_context('notebook') \n",
    "seaborn.set_style(style='darkgrid')\n",
    "\n",
    "from pprint import pprint "
   ]
  },
  {
   "cell_type": "code",
   "execution_count": 51,
   "metadata": {},
   "outputs": [
    {
     "name": "stdout",
     "output_type": "stream",
     "text": [
      "(1000, 21)\n",
      "Index(['existingchecking', 'duration', 'credithistory', 'purpose',\n",
      "       'creditamount', 'savings', 'employmentsince', 'installmentrate',\n",
      "       'statussex', 'otherdebtors', 'residencesince', 'property', 'age',\n",
      "       'otherinstallmentplans', 'housing', 'existingcredits', 'job',\n",
      "       'peopleliable', 'telephone', 'foreignworker', 'classification'],\n",
      "      dtype='object')\n"
     ]
    },
    {
     "data": {
      "text/html": [
       "<div>\n",
       "<style scoped>\n",
       "    .dataframe tbody tr th:only-of-type {\n",
       "        vertical-align: middle;\n",
       "    }\n",
       "\n",
       "    .dataframe tbody tr th {\n",
       "        vertical-align: top;\n",
       "    }\n",
       "\n",
       "    .dataframe thead th {\n",
       "        text-align: right;\n",
       "    }\n",
       "</style>\n",
       "<table border=\"1\" class=\"dataframe\">\n",
       "  <thead>\n",
       "    <tr style=\"text-align: right;\">\n",
       "      <th></th>\n",
       "      <th>existingchecking</th>\n",
       "      <th>duration</th>\n",
       "      <th>credithistory</th>\n",
       "      <th>purpose</th>\n",
       "      <th>creditamount</th>\n",
       "      <th>savings</th>\n",
       "      <th>employmentsince</th>\n",
       "      <th>installmentrate</th>\n",
       "      <th>statussex</th>\n",
       "      <th>otherdebtors</th>\n",
       "      <th>...</th>\n",
       "      <th>property</th>\n",
       "      <th>age</th>\n",
       "      <th>otherinstallmentplans</th>\n",
       "      <th>housing</th>\n",
       "      <th>existingcredits</th>\n",
       "      <th>job</th>\n",
       "      <th>peopleliable</th>\n",
       "      <th>telephone</th>\n",
       "      <th>foreignworker</th>\n",
       "      <th>classification</th>\n",
       "    </tr>\n",
       "  </thead>\n",
       "  <tbody>\n",
       "    <tr>\n",
       "      <th>0</th>\n",
       "      <td>A11</td>\n",
       "      <td>6</td>\n",
       "      <td>A34</td>\n",
       "      <td>A43</td>\n",
       "      <td>1169</td>\n",
       "      <td>A65</td>\n",
       "      <td>A75</td>\n",
       "      <td>4</td>\n",
       "      <td>A93</td>\n",
       "      <td>A101</td>\n",
       "      <td>...</td>\n",
       "      <td>A121</td>\n",
       "      <td>67</td>\n",
       "      <td>A143</td>\n",
       "      <td>A152</td>\n",
       "      <td>2</td>\n",
       "      <td>A173</td>\n",
       "      <td>1</td>\n",
       "      <td>A192</td>\n",
       "      <td>A201</td>\n",
       "      <td>1</td>\n",
       "    </tr>\n",
       "    <tr>\n",
       "      <th>1</th>\n",
       "      <td>A12</td>\n",
       "      <td>48</td>\n",
       "      <td>A32</td>\n",
       "      <td>A43</td>\n",
       "      <td>5951</td>\n",
       "      <td>A61</td>\n",
       "      <td>A73</td>\n",
       "      <td>2</td>\n",
       "      <td>A92</td>\n",
       "      <td>A101</td>\n",
       "      <td>...</td>\n",
       "      <td>A121</td>\n",
       "      <td>22</td>\n",
       "      <td>A143</td>\n",
       "      <td>A152</td>\n",
       "      <td>1</td>\n",
       "      <td>A173</td>\n",
       "      <td>1</td>\n",
       "      <td>A191</td>\n",
       "      <td>A201</td>\n",
       "      <td>2</td>\n",
       "    </tr>\n",
       "    <tr>\n",
       "      <th>2</th>\n",
       "      <td>A14</td>\n",
       "      <td>12</td>\n",
       "      <td>A34</td>\n",
       "      <td>A46</td>\n",
       "      <td>2096</td>\n",
       "      <td>A61</td>\n",
       "      <td>A74</td>\n",
       "      <td>2</td>\n",
       "      <td>A93</td>\n",
       "      <td>A101</td>\n",
       "      <td>...</td>\n",
       "      <td>A121</td>\n",
       "      <td>49</td>\n",
       "      <td>A143</td>\n",
       "      <td>A152</td>\n",
       "      <td>1</td>\n",
       "      <td>A172</td>\n",
       "      <td>2</td>\n",
       "      <td>A191</td>\n",
       "      <td>A201</td>\n",
       "      <td>1</td>\n",
       "    </tr>\n",
       "    <tr>\n",
       "      <th>3</th>\n",
       "      <td>A11</td>\n",
       "      <td>42</td>\n",
       "      <td>A32</td>\n",
       "      <td>A42</td>\n",
       "      <td>7882</td>\n",
       "      <td>A61</td>\n",
       "      <td>A74</td>\n",
       "      <td>2</td>\n",
       "      <td>A93</td>\n",
       "      <td>A103</td>\n",
       "      <td>...</td>\n",
       "      <td>A122</td>\n",
       "      <td>45</td>\n",
       "      <td>A143</td>\n",
       "      <td>A153</td>\n",
       "      <td>1</td>\n",
       "      <td>A173</td>\n",
       "      <td>2</td>\n",
       "      <td>A191</td>\n",
       "      <td>A201</td>\n",
       "      <td>1</td>\n",
       "    </tr>\n",
       "    <tr>\n",
       "      <th>4</th>\n",
       "      <td>A11</td>\n",
       "      <td>24</td>\n",
       "      <td>A33</td>\n",
       "      <td>A40</td>\n",
       "      <td>4870</td>\n",
       "      <td>A61</td>\n",
       "      <td>A73</td>\n",
       "      <td>3</td>\n",
       "      <td>A93</td>\n",
       "      <td>A101</td>\n",
       "      <td>...</td>\n",
       "      <td>A124</td>\n",
       "      <td>53</td>\n",
       "      <td>A143</td>\n",
       "      <td>A153</td>\n",
       "      <td>2</td>\n",
       "      <td>A173</td>\n",
       "      <td>2</td>\n",
       "      <td>A191</td>\n",
       "      <td>A201</td>\n",
       "      <td>2</td>\n",
       "    </tr>\n",
       "    <tr>\n",
       "      <th>5</th>\n",
       "      <td>A14</td>\n",
       "      <td>36</td>\n",
       "      <td>A32</td>\n",
       "      <td>A46</td>\n",
       "      <td>9055</td>\n",
       "      <td>A65</td>\n",
       "      <td>A73</td>\n",
       "      <td>2</td>\n",
       "      <td>A93</td>\n",
       "      <td>A101</td>\n",
       "      <td>...</td>\n",
       "      <td>A124</td>\n",
       "      <td>35</td>\n",
       "      <td>A143</td>\n",
       "      <td>A153</td>\n",
       "      <td>1</td>\n",
       "      <td>A172</td>\n",
       "      <td>2</td>\n",
       "      <td>A192</td>\n",
       "      <td>A201</td>\n",
       "      <td>1</td>\n",
       "    </tr>\n",
       "    <tr>\n",
       "      <th>6</th>\n",
       "      <td>A14</td>\n",
       "      <td>24</td>\n",
       "      <td>A32</td>\n",
       "      <td>A42</td>\n",
       "      <td>2835</td>\n",
       "      <td>A63</td>\n",
       "      <td>A75</td>\n",
       "      <td>3</td>\n",
       "      <td>A93</td>\n",
       "      <td>A101</td>\n",
       "      <td>...</td>\n",
       "      <td>A122</td>\n",
       "      <td>53</td>\n",
       "      <td>A143</td>\n",
       "      <td>A152</td>\n",
       "      <td>1</td>\n",
       "      <td>A173</td>\n",
       "      <td>1</td>\n",
       "      <td>A191</td>\n",
       "      <td>A201</td>\n",
       "      <td>1</td>\n",
       "    </tr>\n",
       "    <tr>\n",
       "      <th>7</th>\n",
       "      <td>A12</td>\n",
       "      <td>36</td>\n",
       "      <td>A32</td>\n",
       "      <td>A41</td>\n",
       "      <td>6948</td>\n",
       "      <td>A61</td>\n",
       "      <td>A73</td>\n",
       "      <td>2</td>\n",
       "      <td>A93</td>\n",
       "      <td>A101</td>\n",
       "      <td>...</td>\n",
       "      <td>A123</td>\n",
       "      <td>35</td>\n",
       "      <td>A143</td>\n",
       "      <td>A151</td>\n",
       "      <td>1</td>\n",
       "      <td>A174</td>\n",
       "      <td>1</td>\n",
       "      <td>A192</td>\n",
       "      <td>A201</td>\n",
       "      <td>1</td>\n",
       "    </tr>\n",
       "    <tr>\n",
       "      <th>8</th>\n",
       "      <td>A14</td>\n",
       "      <td>12</td>\n",
       "      <td>A32</td>\n",
       "      <td>A43</td>\n",
       "      <td>3059</td>\n",
       "      <td>A64</td>\n",
       "      <td>A74</td>\n",
       "      <td>2</td>\n",
       "      <td>A91</td>\n",
       "      <td>A101</td>\n",
       "      <td>...</td>\n",
       "      <td>A121</td>\n",
       "      <td>61</td>\n",
       "      <td>A143</td>\n",
       "      <td>A152</td>\n",
       "      <td>1</td>\n",
       "      <td>A172</td>\n",
       "      <td>1</td>\n",
       "      <td>A191</td>\n",
       "      <td>A201</td>\n",
       "      <td>1</td>\n",
       "    </tr>\n",
       "    <tr>\n",
       "      <th>9</th>\n",
       "      <td>A12</td>\n",
       "      <td>30</td>\n",
       "      <td>A34</td>\n",
       "      <td>A40</td>\n",
       "      <td>5234</td>\n",
       "      <td>A61</td>\n",
       "      <td>A71</td>\n",
       "      <td>4</td>\n",
       "      <td>A94</td>\n",
       "      <td>A101</td>\n",
       "      <td>...</td>\n",
       "      <td>A123</td>\n",
       "      <td>28</td>\n",
       "      <td>A143</td>\n",
       "      <td>A152</td>\n",
       "      <td>2</td>\n",
       "      <td>A174</td>\n",
       "      <td>1</td>\n",
       "      <td>A191</td>\n",
       "      <td>A201</td>\n",
       "      <td>2</td>\n",
       "    </tr>\n",
       "  </tbody>\n",
       "</table>\n",
       "<p>10 rows × 21 columns</p>\n",
       "</div>"
      ],
      "text/plain": [
       "  existingchecking  duration credithistory purpose  creditamount savings  \\\n",
       "0              A11         6           A34     A43          1169     A65   \n",
       "1              A12        48           A32     A43          5951     A61   \n",
       "2              A14        12           A34     A46          2096     A61   \n",
       "3              A11        42           A32     A42          7882     A61   \n",
       "4              A11        24           A33     A40          4870     A61   \n",
       "5              A14        36           A32     A46          9055     A65   \n",
       "6              A14        24           A32     A42          2835     A63   \n",
       "7              A12        36           A32     A41          6948     A61   \n",
       "8              A14        12           A32     A43          3059     A64   \n",
       "9              A12        30           A34     A40          5234     A61   \n",
       "\n",
       "  employmentsince  installmentrate statussex otherdebtors  ...  property age  \\\n",
       "0             A75                4       A93         A101  ...      A121  67   \n",
       "1             A73                2       A92         A101  ...      A121  22   \n",
       "2             A74                2       A93         A101  ...      A121  49   \n",
       "3             A74                2       A93         A103  ...      A122  45   \n",
       "4             A73                3       A93         A101  ...      A124  53   \n",
       "5             A73                2       A93         A101  ...      A124  35   \n",
       "6             A75                3       A93         A101  ...      A122  53   \n",
       "7             A73                2       A93         A101  ...      A123  35   \n",
       "8             A74                2       A91         A101  ...      A121  61   \n",
       "9             A71                4       A94         A101  ...      A123  28   \n",
       "\n",
       "   otherinstallmentplans housing existingcredits   job peopleliable  \\\n",
       "0                   A143    A152               2  A173            1   \n",
       "1                   A143    A152               1  A173            1   \n",
       "2                   A143    A152               1  A172            2   \n",
       "3                   A143    A153               1  A173            2   \n",
       "4                   A143    A153               2  A173            2   \n",
       "5                   A143    A153               1  A172            2   \n",
       "6                   A143    A152               1  A173            1   \n",
       "7                   A143    A151               1  A174            1   \n",
       "8                   A143    A152               1  A172            1   \n",
       "9                   A143    A152               2  A174            1   \n",
       "\n",
       "   telephone foreignworker classification  \n",
       "0       A192          A201              1  \n",
       "1       A191          A201              2  \n",
       "2       A191          A201              1  \n",
       "3       A191          A201              1  \n",
       "4       A191          A201              2  \n",
       "5       A192          A201              1  \n",
       "6       A191          A201              1  \n",
       "7       A192          A201              1  \n",
       "8       A191          A201              1  \n",
       "9       A191          A201              2  \n",
       "\n",
       "[10 rows x 21 columns]"
      ]
     },
     "execution_count": 51,
     "metadata": {},
     "output_type": "execute_result"
    }
   ],
   "source": [
    "file = 'C:\\\\Users\\\\Forex1\\\\Desktop\\\\AI\\\\ml-german-credit\\\\data\\\\german.data'\n",
    "url = \"http://archive.ics.uci.edu/ml/machine-learning-databases/statlog/german/german.data\"\n",
    "\n",
    "names = ['existingchecking', 'duration', 'credithistory', 'purpose', 'creditamount', \n",
    "         'savings', 'employmentsince', 'installmentrate', 'statussex', 'otherdebtors', \n",
    "         'residencesince', 'property', 'age', 'otherinstallmentplans', 'housing', \n",
    "         'existingcredits', 'job', 'peopleliable', 'telephone', 'foreignworker', 'classification']\n",
    "\n",
    "data = pd.read_csv(file,names = names, delimiter=' ')\n",
    "print(data.shape)\n",
    "print (data.columns)\n",
    "data.head(10)"
   ]
  },
  {
   "cell_type": "code",
   "execution_count": 52,
   "metadata": {},
   "outputs": [
    {
     "data": {
      "text/plain": [
       "1    700\n",
       "0    300\n",
       "Name: classification, dtype: int64"
      ]
     },
     "execution_count": 52,
     "metadata": {},
     "output_type": "execute_result"
    }
   ],
   "source": [
    "# Binarize the y output for easier use of e.g. ROC curves -> 0 = 'bad' credit; 1 = 'good' credit\n",
    "data.classification.replace([1,2], [1,0], inplace=True)\n",
    "# Print number of 'good' credits (should be 700) and 'bad credits (should be 300)\n",
    "data.classification.value_counts()"
   ]
  },
  {
   "cell_type": "code",
   "execution_count": 53,
   "metadata": {},
   "outputs": [],
   "source": [
    "#numerical variables labels\n",
    "numvars = ['creditamount', 'duration', 'installmentrate', 'residencesince', 'age', \n",
    "           'existingcredits', 'peopleliable','classification']\n",
    "\n",
    "# Standardization\n",
    "numdata_std = pd.DataFrame(StandardScaler().fit_transform(data[numvars].drop(['classification'], axis=1)))"
   ]
  },
  {
   "cell_type": "code",
   "execution_count": 54,
   "metadata": {},
   "outputs": [
    {
     "name": "stdout",
     "output_type": "stream",
     "text": [
      "existingchecking :  ['A11' 'A12' 'A14' 'A13']\n",
      "existingchecking :  [0 1 3 2]\n",
      "credithistory :  ['A34' 'A32' 'A33' 'A30' 'A31']\n",
      "credithistory :  [4 2 3 0 1]\n",
      "purpose :  ['A43' 'A46' 'A42' 'A40' 'A41' 'A49' 'A44' 'A45' 'A410' 'A48']\n",
      "purpose :  [4 7 3 0 1 9 5 6 2 8]\n",
      "savings :  ['A65' 'A61' 'A63' 'A64' 'A62']\n",
      "savings :  [4 0 2 3 1]\n",
      "employmentsince :  ['A75' 'A73' 'A74' 'A71' 'A72']\n",
      "employmentsince :  [4 2 3 0 1]\n",
      "statussex :  ['A93' 'A92' 'A91' 'A94']\n",
      "statussex :  [2 1 0 3]\n",
      "otherdebtors :  ['A101' 'A103' 'A102']\n",
      "otherdebtors :  [0 2 1]\n",
      "property :  ['A121' 'A122' 'A124' 'A123']\n",
      "property :  [0 1 3 2]\n",
      "otherinstallmentplans :  ['A143' 'A141' 'A142']\n",
      "otherinstallmentplans :  [2 0 1]\n",
      "housing :  ['A152' 'A153' 'A151']\n",
      "housing :  [1 2 0]\n",
      "job :  ['A173' 'A172' 'A174' 'A171']\n",
      "job :  [2 1 3 0]\n",
      "telephone :  ['A192' 'A191']\n",
      "telephone :  [1 0]\n",
      "foreignworker :  ['A201' 'A202']\n",
      "foreignworker :  [0 1]\n"
     ]
    },
    {
     "data": {
      "text/html": [
       "<div>\n",
       "<style scoped>\n",
       "    .dataframe tbody tr th:only-of-type {\n",
       "        vertical-align: middle;\n",
       "    }\n",
       "\n",
       "    .dataframe tbody tr th {\n",
       "        vertical-align: top;\n",
       "    }\n",
       "\n",
       "    .dataframe thead th {\n",
       "        text-align: right;\n",
       "    }\n",
       "</style>\n",
       "<table border=\"1\" class=\"dataframe\">\n",
       "  <thead>\n",
       "    <tr style=\"text-align: right;\">\n",
       "      <th></th>\n",
       "      <th>existingchecking</th>\n",
       "      <th>credithistory</th>\n",
       "      <th>purpose</th>\n",
       "      <th>savings</th>\n",
       "      <th>employmentsince</th>\n",
       "      <th>statussex</th>\n",
       "      <th>otherdebtors</th>\n",
       "      <th>property</th>\n",
       "      <th>otherinstallmentplans</th>\n",
       "      <th>housing</th>\n",
       "      <th>job</th>\n",
       "      <th>telephone</th>\n",
       "      <th>foreignworker</th>\n",
       "    </tr>\n",
       "  </thead>\n",
       "  <tbody>\n",
       "    <tr>\n",
       "      <th>0</th>\n",
       "      <td>0</td>\n",
       "      <td>4</td>\n",
       "      <td>4</td>\n",
       "      <td>4</td>\n",
       "      <td>4</td>\n",
       "      <td>2</td>\n",
       "      <td>0</td>\n",
       "      <td>0</td>\n",
       "      <td>2</td>\n",
       "      <td>1</td>\n",
       "      <td>2</td>\n",
       "      <td>1</td>\n",
       "      <td>0</td>\n",
       "    </tr>\n",
       "    <tr>\n",
       "      <th>1</th>\n",
       "      <td>1</td>\n",
       "      <td>2</td>\n",
       "      <td>4</td>\n",
       "      <td>0</td>\n",
       "      <td>2</td>\n",
       "      <td>1</td>\n",
       "      <td>0</td>\n",
       "      <td>0</td>\n",
       "      <td>2</td>\n",
       "      <td>1</td>\n",
       "      <td>2</td>\n",
       "      <td>0</td>\n",
       "      <td>0</td>\n",
       "    </tr>\n",
       "    <tr>\n",
       "      <th>2</th>\n",
       "      <td>3</td>\n",
       "      <td>4</td>\n",
       "      <td>7</td>\n",
       "      <td>0</td>\n",
       "      <td>3</td>\n",
       "      <td>2</td>\n",
       "      <td>0</td>\n",
       "      <td>0</td>\n",
       "      <td>2</td>\n",
       "      <td>1</td>\n",
       "      <td>1</td>\n",
       "      <td>0</td>\n",
       "      <td>0</td>\n",
       "    </tr>\n",
       "    <tr>\n",
       "      <th>3</th>\n",
       "      <td>0</td>\n",
       "      <td>2</td>\n",
       "      <td>3</td>\n",
       "      <td>0</td>\n",
       "      <td>3</td>\n",
       "      <td>2</td>\n",
       "      <td>2</td>\n",
       "      <td>1</td>\n",
       "      <td>2</td>\n",
       "      <td>2</td>\n",
       "      <td>2</td>\n",
       "      <td>0</td>\n",
       "      <td>0</td>\n",
       "    </tr>\n",
       "    <tr>\n",
       "      <th>4</th>\n",
       "      <td>0</td>\n",
       "      <td>3</td>\n",
       "      <td>0</td>\n",
       "      <td>0</td>\n",
       "      <td>2</td>\n",
       "      <td>2</td>\n",
       "      <td>0</td>\n",
       "      <td>3</td>\n",
       "      <td>2</td>\n",
       "      <td>2</td>\n",
       "      <td>2</td>\n",
       "      <td>0</td>\n",
       "      <td>0</td>\n",
       "    </tr>\n",
       "    <tr>\n",
       "      <th>...</th>\n",
       "      <td>...</td>\n",
       "      <td>...</td>\n",
       "      <td>...</td>\n",
       "      <td>...</td>\n",
       "      <td>...</td>\n",
       "      <td>...</td>\n",
       "      <td>...</td>\n",
       "      <td>...</td>\n",
       "      <td>...</td>\n",
       "      <td>...</td>\n",
       "      <td>...</td>\n",
       "      <td>...</td>\n",
       "      <td>...</td>\n",
       "    </tr>\n",
       "    <tr>\n",
       "      <th>995</th>\n",
       "      <td>3</td>\n",
       "      <td>2</td>\n",
       "      <td>3</td>\n",
       "      <td>0</td>\n",
       "      <td>3</td>\n",
       "      <td>1</td>\n",
       "      <td>0</td>\n",
       "      <td>0</td>\n",
       "      <td>2</td>\n",
       "      <td>1</td>\n",
       "      <td>1</td>\n",
       "      <td>0</td>\n",
       "      <td>0</td>\n",
       "    </tr>\n",
       "    <tr>\n",
       "      <th>996</th>\n",
       "      <td>0</td>\n",
       "      <td>2</td>\n",
       "      <td>1</td>\n",
       "      <td>0</td>\n",
       "      <td>2</td>\n",
       "      <td>0</td>\n",
       "      <td>0</td>\n",
       "      <td>1</td>\n",
       "      <td>2</td>\n",
       "      <td>1</td>\n",
       "      <td>3</td>\n",
       "      <td>1</td>\n",
       "      <td>0</td>\n",
       "    </tr>\n",
       "    <tr>\n",
       "      <th>997</th>\n",
       "      <td>3</td>\n",
       "      <td>2</td>\n",
       "      <td>4</td>\n",
       "      <td>0</td>\n",
       "      <td>4</td>\n",
       "      <td>2</td>\n",
       "      <td>0</td>\n",
       "      <td>2</td>\n",
       "      <td>2</td>\n",
       "      <td>1</td>\n",
       "      <td>2</td>\n",
       "      <td>0</td>\n",
       "      <td>0</td>\n",
       "    </tr>\n",
       "    <tr>\n",
       "      <th>998</th>\n",
       "      <td>0</td>\n",
       "      <td>2</td>\n",
       "      <td>4</td>\n",
       "      <td>0</td>\n",
       "      <td>2</td>\n",
       "      <td>2</td>\n",
       "      <td>0</td>\n",
       "      <td>3</td>\n",
       "      <td>2</td>\n",
       "      <td>2</td>\n",
       "      <td>2</td>\n",
       "      <td>1</td>\n",
       "      <td>0</td>\n",
       "    </tr>\n",
       "    <tr>\n",
       "      <th>999</th>\n",
       "      <td>1</td>\n",
       "      <td>4</td>\n",
       "      <td>1</td>\n",
       "      <td>1</td>\n",
       "      <td>0</td>\n",
       "      <td>2</td>\n",
       "      <td>0</td>\n",
       "      <td>2</td>\n",
       "      <td>2</td>\n",
       "      <td>1</td>\n",
       "      <td>2</td>\n",
       "      <td>0</td>\n",
       "      <td>0</td>\n",
       "    </tr>\n",
       "  </tbody>\n",
       "</table>\n",
       "<p>1000 rows × 13 columns</p>\n",
       "</div>"
      ],
      "text/plain": [
       "     existingchecking  credithistory  purpose  savings  employmentsince  \\\n",
       "0                   0              4        4        4                4   \n",
       "1                   1              2        4        0                2   \n",
       "2                   3              4        7        0                3   \n",
       "3                   0              2        3        0                3   \n",
       "4                   0              3        0        0                2   \n",
       "..                ...            ...      ...      ...              ...   \n",
       "995                 3              2        3        0                3   \n",
       "996                 0              2        1        0                2   \n",
       "997                 3              2        4        0                4   \n",
       "998                 0              2        4        0                2   \n",
       "999                 1              4        1        1                0   \n",
       "\n",
       "     statussex  otherdebtors  property  otherinstallmentplans  housing  job  \\\n",
       "0            2             0         0                      2        1    2   \n",
       "1            1             0         0                      2        1    2   \n",
       "2            2             0         0                      2        1    1   \n",
       "3            2             2         1                      2        2    2   \n",
       "4            2             0         3                      2        2    2   \n",
       "..         ...           ...       ...                    ...      ...  ...   \n",
       "995          1             0         0                      2        1    1   \n",
       "996          0             0         1                      2        1    3   \n",
       "997          2             0         2                      2        1    2   \n",
       "998          2             0         3                      2        2    2   \n",
       "999          2             0         2                      2        1    2   \n",
       "\n",
       "     telephone  foreignworker  \n",
       "0            1              0  \n",
       "1            0              0  \n",
       "2            0              0  \n",
       "3            0              0  \n",
       "4            0              0  \n",
       "..         ...            ...  \n",
       "995          0              0  \n",
       "996          1              0  \n",
       "997          0              0  \n",
       "998          1              0  \n",
       "999          0              0  \n",
       "\n",
       "[1000 rows x 13 columns]"
      ]
     },
     "execution_count": 54,
     "metadata": {},
     "output_type": "execute_result"
    }
   ],
   "source": [
    "from collections import defaultdict\n",
    "\n",
    "#categorical variables labels\n",
    "catvars = ['existingchecking', 'credithistory', 'purpose', 'savings', 'employmentsince',\n",
    "           'statussex', 'otherdebtors', 'property', 'otherinstallmentplans', 'housing', 'job', \n",
    "           'telephone', 'foreignworker']\n",
    "\n",
    "d = defaultdict(LabelEncoder)\n",
    "\n",
    "# Encoding the variable\n",
    "lecatdata = data[catvars].apply(lambda x: d[x.name].fit_transform(x))\n",
    "\n",
    "# print transformations\n",
    "for x in range(len(catvars)):\n",
    "    print(catvars[x],\": \", data[catvars[x]].unique())\n",
    "    print(catvars[x],\": \", lecatdata[catvars[x]].unique())\n",
    "\n",
    "#One hot encoding, create dummy variables for every category of every categorical variable\n",
    "dummyvars = pd.get_dummies(data[catvars])\n",
    "data[catvars]\n",
    "lecatdata[catvars]"
   ]
  },
  {
   "cell_type": "code",
   "execution_count": 55,
   "metadata": {},
   "outputs": [
    {
     "name": "stdout",
     "output_type": "stream",
     "text": [
      "(1000, 21)\n"
     ]
    }
   ],
   "source": [
    "data_clean = pd.concat([data[numvars], lecatdata], axis = 1)\n",
    "\n",
    "print(data_clean.shape)"
   ]
  },
  {
   "cell_type": "code",
   "execution_count": 56,
   "metadata": {},
   "outputs": [
    {
     "data": {
      "text/html": [
       "<div>\n",
       "<style scoped>\n",
       "    .dataframe tbody tr th:only-of-type {\n",
       "        vertical-align: middle;\n",
       "    }\n",
       "\n",
       "    .dataframe tbody tr th {\n",
       "        vertical-align: top;\n",
       "    }\n",
       "\n",
       "    .dataframe thead th {\n",
       "        text-align: right;\n",
       "    }\n",
       "</style>\n",
       "<table border=\"1\" class=\"dataframe\">\n",
       "  <thead>\n",
       "    <tr style=\"text-align: right;\">\n",
       "      <th></th>\n",
       "      <th>creditamount</th>\n",
       "      <th>duration</th>\n",
       "      <th>installmentrate</th>\n",
       "      <th>residencesince</th>\n",
       "      <th>age</th>\n",
       "      <th>existingcredits</th>\n",
       "      <th>peopleliable</th>\n",
       "      <th>classification</th>\n",
       "      <th>existingchecking</th>\n",
       "      <th>credithistory</th>\n",
       "      <th>...</th>\n",
       "      <th>savings</th>\n",
       "      <th>employmentsince</th>\n",
       "      <th>statussex</th>\n",
       "      <th>otherdebtors</th>\n",
       "      <th>property</th>\n",
       "      <th>otherinstallmentplans</th>\n",
       "      <th>housing</th>\n",
       "      <th>job</th>\n",
       "      <th>telephone</th>\n",
       "      <th>foreignworker</th>\n",
       "    </tr>\n",
       "  </thead>\n",
       "  <tbody>\n",
       "    <tr>\n",
       "      <th>0</th>\n",
       "      <td>1169</td>\n",
       "      <td>6</td>\n",
       "      <td>4</td>\n",
       "      <td>4</td>\n",
       "      <td>67</td>\n",
       "      <td>2</td>\n",
       "      <td>1</td>\n",
       "      <td>1</td>\n",
       "      <td>0</td>\n",
       "      <td>4</td>\n",
       "      <td>...</td>\n",
       "      <td>4</td>\n",
       "      <td>4</td>\n",
       "      <td>2</td>\n",
       "      <td>0</td>\n",
       "      <td>0</td>\n",
       "      <td>2</td>\n",
       "      <td>1</td>\n",
       "      <td>2</td>\n",
       "      <td>1</td>\n",
       "      <td>0</td>\n",
       "    </tr>\n",
       "    <tr>\n",
       "      <th>1</th>\n",
       "      <td>5951</td>\n",
       "      <td>48</td>\n",
       "      <td>2</td>\n",
       "      <td>2</td>\n",
       "      <td>22</td>\n",
       "      <td>1</td>\n",
       "      <td>1</td>\n",
       "      <td>0</td>\n",
       "      <td>1</td>\n",
       "      <td>2</td>\n",
       "      <td>...</td>\n",
       "      <td>0</td>\n",
       "      <td>2</td>\n",
       "      <td>1</td>\n",
       "      <td>0</td>\n",
       "      <td>0</td>\n",
       "      <td>2</td>\n",
       "      <td>1</td>\n",
       "      <td>2</td>\n",
       "      <td>0</td>\n",
       "      <td>0</td>\n",
       "    </tr>\n",
       "    <tr>\n",
       "      <th>2</th>\n",
       "      <td>2096</td>\n",
       "      <td>12</td>\n",
       "      <td>2</td>\n",
       "      <td>3</td>\n",
       "      <td>49</td>\n",
       "      <td>1</td>\n",
       "      <td>2</td>\n",
       "      <td>1</td>\n",
       "      <td>3</td>\n",
       "      <td>4</td>\n",
       "      <td>...</td>\n",
       "      <td>0</td>\n",
       "      <td>3</td>\n",
       "      <td>2</td>\n",
       "      <td>0</td>\n",
       "      <td>0</td>\n",
       "      <td>2</td>\n",
       "      <td>1</td>\n",
       "      <td>1</td>\n",
       "      <td>0</td>\n",
       "      <td>0</td>\n",
       "    </tr>\n",
       "    <tr>\n",
       "      <th>3</th>\n",
       "      <td>7882</td>\n",
       "      <td>42</td>\n",
       "      <td>2</td>\n",
       "      <td>4</td>\n",
       "      <td>45</td>\n",
       "      <td>1</td>\n",
       "      <td>2</td>\n",
       "      <td>1</td>\n",
       "      <td>0</td>\n",
       "      <td>2</td>\n",
       "      <td>...</td>\n",
       "      <td>0</td>\n",
       "      <td>3</td>\n",
       "      <td>2</td>\n",
       "      <td>2</td>\n",
       "      <td>1</td>\n",
       "      <td>2</td>\n",
       "      <td>2</td>\n",
       "      <td>2</td>\n",
       "      <td>0</td>\n",
       "      <td>0</td>\n",
       "    </tr>\n",
       "    <tr>\n",
       "      <th>4</th>\n",
       "      <td>4870</td>\n",
       "      <td>24</td>\n",
       "      <td>3</td>\n",
       "      <td>4</td>\n",
       "      <td>53</td>\n",
       "      <td>2</td>\n",
       "      <td>2</td>\n",
       "      <td>0</td>\n",
       "      <td>0</td>\n",
       "      <td>3</td>\n",
       "      <td>...</td>\n",
       "      <td>0</td>\n",
       "      <td>2</td>\n",
       "      <td>2</td>\n",
       "      <td>0</td>\n",
       "      <td>3</td>\n",
       "      <td>2</td>\n",
       "      <td>2</td>\n",
       "      <td>2</td>\n",
       "      <td>0</td>\n",
       "      <td>0</td>\n",
       "    </tr>\n",
       "  </tbody>\n",
       "</table>\n",
       "<p>5 rows × 21 columns</p>\n",
       "</div>"
      ],
      "text/plain": [
       "   creditamount  duration  installmentrate  residencesince  age  \\\n",
       "0          1169         6                4               4   67   \n",
       "1          5951        48                2               2   22   \n",
       "2          2096        12                2               3   49   \n",
       "3          7882        42                2               4   45   \n",
       "4          4870        24                3               4   53   \n",
       "\n",
       "   existingcredits  peopleliable  classification  existingchecking  \\\n",
       "0                2             1               1                 0   \n",
       "1                1             1               0                 1   \n",
       "2                1             2               1                 3   \n",
       "3                1             2               1                 0   \n",
       "4                2             2               0                 0   \n",
       "\n",
       "   credithistory  ...  savings  employmentsince  statussex  otherdebtors  \\\n",
       "0              4  ...        4                4          2             0   \n",
       "1              2  ...        0                2          1             0   \n",
       "2              4  ...        0                3          2             0   \n",
       "3              2  ...        0                3          2             2   \n",
       "4              3  ...        0                2          2             0   \n",
       "\n",
       "   property  otherinstallmentplans  housing  job  telephone  foreignworker  \n",
       "0         0                      2        1    2          1              0  \n",
       "1         0                      2        1    2          0              0  \n",
       "2         0                      2        1    1          0              0  \n",
       "3         1                      2        2    2          0              0  \n",
       "4         3                      2        2    2          0              0  \n",
       "\n",
       "[5 rows x 21 columns]"
      ]
     },
     "execution_count": 56,
     "metadata": {},
     "output_type": "execute_result"
    }
   ],
   "source": [
    "data_clean.head()"
   ]
  },
  {
   "cell_type": "raw",
   "metadata": {},
   "source": [
    "[('creditamount', 0.12923313611726128),\n",
    " ('existingchecking', 0.11268644840782993),\n",
    " ('age', 0.10597935702235378),\n",
    " ('duration', 0.09604917366613606),\n",
    " ('purpose', 0.0640848806635587),\n",
    " ('credithistory', 0.05887893200955861),\n",
    " ('savings', 0.05249104875800478),\n",
    " ('employmentsince', 0.05073817605704535)]"
   ]
  },
  {
   "cell_type": "code",
   "execution_count": 57,
   "metadata": {
    "scrolled": true
   },
   "outputs": [
    {
     "data": {
      "text/plain": [
       "<matplotlib.axes._subplots.AxesSubplot at 0x1a846ae6188>"
      ]
     },
     "execution_count": 57,
     "metadata": {},
     "output_type": "execute_result"
    },
    {
     "data": {
      "image/png": "[encoded data removed]",
      "text/plain": [
       "<Figure size 432x288 with 1 Axes>"
      ]
     },
     "metadata": {},
     "output_type": "display_data"
    }
   ],
   "source": [
    "data[data['classification']==0]['creditamount'].hist(alpha=0.9,color='red')\n",
    "data[data['classification']==1]['creditamount'].hist(alpha=0.3,color='blue')"
   ]
  },
  {
   "cell_type": "code",
   "execution_count": 58,
   "metadata": {},
   "outputs": [
    {
     "data": {
      "text/plain": [
       "<matplotlib.axes._subplots.AxesSubplot at 0x1a847c86e48>"
      ]
     },
     "execution_count": 58,
     "metadata": {},
     "output_type": "execute_result"
    },
    {
     "data": {
      "image/png": "[encoded data removed]",
      "text/plain": [
       "<Figure size 432x288 with 1 Axes>"
      ]
     },
     "metadata": {},
     "output_type": "display_data"
    }
   ],
   "source": [
    "data[data['classification']==0]['existingchecking'].hist(alpha=0.9,color='red')\n",
    "data[data['classification']==1]['existingchecking'].hist(alpha=0.3,color='blue')"
   ]
  },
  {
   "cell_type": "raw",
   "metadata": {},
   "source": [
    "Status of existing checking account\n",
    "A11 :      ... <    0 DM\n",
    "A12 : 0 <= ... <  200 DM\n",
    "A13 :      ... >= 200 DM /salary assignments for at least 1 year\n",
    "A14 : no checking account"
   ]
  },
  {
   "cell_type": "code",
   "execution_count": 59,
   "metadata": {
    "scrolled": false
   },
   "outputs": [
    {
     "data": {
      "text/plain": [
       "<matplotlib.axes._subplots.AxesSubplot at 0x1a847d2d708>"
      ]
     },
     "execution_count": 59,
     "metadata": {},
     "output_type": "execute_result"
    },
    {
     "data": {
      "image/png": "[encoded data removed]",
      "text/plain": [
       "<Figure size 432x288 with 1 Axes>"
      ]
     },
     "metadata": {},
     "output_type": "display_data"
    }
   ],
   "source": [
    "data[data['classification']==0]['purpose'].hist(alpha=0.9,color='red')\n",
    "data[data['classification']==1]['purpose'].hist(alpha=0.3,color='blue')"
   ]
  },
  {
   "cell_type": "raw",
   "metadata": {},
   "source": [
    "Attribute 4:  (qualitative)\n",
    "\t      Purpose\n",
    "\t      A40 : car (new)\n",
    "\t      A41 : car (used)\n",
    "\t      A42 : furniture/equipment\n",
    "\t      A43 : radio/television\n",
    "\t      A44 : domestic appliances\n",
    "\t      A45 : repairs\n",
    "\t      A46 : education\n",
    "\t      A47 : (vacation - does not exist?)\n",
    "\t      A48 : retraining\n",
    "\t      A49 : busines"
   ]
  },
  {
   "cell_type": "code",
   "execution_count": 60,
   "metadata": {},
   "outputs": [
    {
     "data": {
      "text/plain": [
       "<matplotlib.axes._subplots.AxesSubplot at 0x1a847db8288>"
      ]
     },
     "execution_count": 60,
     "metadata": {},
     "output_type": "execute_result"
    },
    {
     "data": {
      "image/png": "[encoded data removed]",
      "text/plain": [
       "<Figure size 432x288 with 1 Axes>"
      ]
     },
     "metadata": {},
     "output_type": "display_data"
    }
   ],
   "source": [
    "data[data['classification']==0]['duration'].hist(alpha=0.9,color='red')\n",
    "data[data['classification']==1]['duration'].hist(alpha=0.3,color='blue')"
   ]
  },
  {
   "cell_type": "code",
   "execution_count": null,
   "metadata": {},
   "outputs": [],
   "source": []
  },
  {
   "cell_type": "code",
   "execution_count": 61,
   "metadata": {},
   "outputs": [
    {
     "data": {
      "text/plain": [
       "<matplotlib.axes._subplots.AxesSubplot at 0x1a847e4ac88>"
      ]
     },
     "execution_count": 61,
     "metadata": {},
     "output_type": "execute_result"
    },
    {
     "data": {
      "image/png": "[encoded data removed]",
      "text/plain": [
       "<Figure size 432x288 with 1 Axes>"
      ]
     },
     "metadata": {},
     "output_type": "display_data"
    }
   ],
   "source": [
    "data[data['classification']==0]['otherdebtors'].hist(alpha=0.9,color='red')\n",
    "data[data['classification']==1]['otherdebtors'].hist(alpha=0.3,color='blue')"
   ]
  },
  {
   "cell_type": "code",
   "execution_count": null,
   "metadata": {},
   "outputs": [],
   "source": []
  },
  {
   "cell_type": "raw",
   "metadata": {},
   "source": [
    "Attribute 10: (qualitative)\n",
    "\t      Other debtors / guarantors\n",
    "\t      A101 : none\n",
    "\t      A102 : co-applicant\n",
    "\t      A103 : guarantor\n"
   ]
  },
  {
   "cell_type": "raw",
   "metadata": {},
   "source": [
    "\n"
   ]
  },
  {
   "cell_type": "code",
   "execution_count": 62,
   "metadata": {},
   "outputs": [
    {
     "data": {
      "text/plain": [
       "<matplotlib.axes._subplots.AxesSubplot at 0x1a847ee57c8>"
      ]
     },
     "execution_count": 62,
     "metadata": {},
     "output_type": "execute_result"
    },
    {
     "data": {
      "image/png": "[encoded data removed]",
      "text/plain": [
       "<Figure size 432x288 with 1 Axes>"
      ]
     },
     "metadata": {},
     "output_type": "display_data"
    }
   ],
   "source": [
    "data[data['classification']==0]['credithistory'].hist(alpha=0.9,color='red')\n",
    "data[data['classification']==1]['credithistory'].hist(alpha=0.3,color='blue')"
   ]
  },
  {
   "cell_type": "raw",
   "metadata": {},
   "source": [
    "Credit history\n",
    "A30 : no credits taken/ all credits paid back duly\n",
    "A31 : all credits at this bank paid back duly\n",
    "A32 : existing credits paid back duly till now\n",
    "A33 : delay in paying off in the past\n",
    "A34 : critical account/other credits existing (not at this bank)"
   ]
  },
  {
   "cell_type": "code",
   "execution_count": 179,
   "metadata": {},
   "outputs": [
    {
     "data": {
      "text/plain": [
       "array([   0,  500, 1000])"
      ]
     },
     "execution_count": 179,
     "metadata": {},
     "output_type": "execute_result"
    }
   ],
   "source": [
    "np.arange(0,1500,500)"
   ]
  },
  {
   "cell_type": "code",
   "execution_count": 183,
   "metadata": {},
   "outputs": [
    {
     "data": {
      "text/plain": [
       "<matplotlib.axes._subplots.AxesSubplot at 0x1a85bc1c188>"
      ]
     },
     "execution_count": 183,
     "metadata": {},
     "output_type": "execute_result"
    },
    {
     "data": {
      "image/png": "[encoded data removed]",
      "text/plain": [
       "<Figure size 1152x720 with 1 Axes>"
      ]
     },
     "metadata": {},
     "output_type": "display_data"
    }
   ],
   "source": [
    "\n",
    "plt.figure(figsize=(16,10))\n",
    "plt.xticks(np.arange(0, 20000, 1000))\n",
    "data[data['classification']==0]['creditamount'].hist(alpha=0.9,color='red',bins=50)\n",
    "data[data['classification']==1]['creditamount'].hist(alpha=0.3,color='blue',bins=50)\n"
   ]
  },
  {
   "cell_type": "code",
   "execution_count": 64,
   "metadata": {},
   "outputs": [
    {
     "data": {
      "text/plain": [
       "<matplotlib.axes._subplots.AxesSubplot at 0x1a848448e48>"
      ]
     },
     "execution_count": 64,
     "metadata": {},
     "output_type": "execute_result"
    },
    {
     "data": {
      "image/png": "[encoded data removed]",
      "text/plain": [
       "<Figure size 432x288 with 1 Axes>"
      ]
     },
     "metadata": {},
     "output_type": "display_data"
    }
   ],
   "source": [
    "data[data['classification']==0]['savings'].hist(alpha=0.9,color='red')\n",
    "data[data['classification']==1]['savings'].hist(alpha=0.3,color='blue')"
   ]
  },
  {
   "cell_type": "raw",
   "metadata": {},
   "source": [
    "Savings account/bonds\n",
    "A61 :          ... <  100 DM\n",
    "A62 :   100 <= ... <  500 DM\n",
    "A63 :   500 <= ... < 1000 DM\n",
    "A64 :          .. >= 1000 DM\n",
    "A65 :   unknown/ no savings account"
   ]
  },
  {
   "cell_type": "raw",
   "metadata": {},
   "source": [
    "[('purpose', 0.13633222521756402),\n",
    " ('duration', 0.1227859527093547),\n",
    " ('otherdebtors', 0.11975289574821513),\n",
    " ('existingchecking', 0.10922995722331769),\n",
    " ('credithistory', 0.06905427152316855),\n",
    " ('creditamount', 0.0616691028016846),\n",
    " ('savings', 0.05725744585817834),"
   ]
  },
  {
   "cell_type": "code",
   "execution_count": 65,
   "metadata": {},
   "outputs": [
    {
     "data": {
      "text/plain": [
       "<matplotlib.axes._subplots.AxesSubplot at 0x1a848153148>"
      ]
     },
     "execution_count": 65,
     "metadata": {},
     "output_type": "execute_result"
    },
    {
     "data": {
      "image/png": "[encoded data removed]",
      "text/plain": [
       "<Figure size 432x288 with 1 Axes>"
      ]
     },
     "metadata": {},
     "output_type": "display_data"
    }
   ],
   "source": [
    "data[data['classification']==0]['age'].hist(alpha=0.9,color='red')\n",
    "data[data['classification']==1]['age'].hist(alpha=0.3,color='blue')"
   ]
  },
  {
   "cell_type": "code",
   "execution_count": 184,
   "metadata": {
    "scrolled": true
   },
   "outputs": [
    {
     "data": {
      "text/plain": [
       "<matplotlib.axes._subplots.AxesSubplot at 0x1a85bc1cc88>"
      ]
     },
     "execution_count": 184,
     "metadata": {},
     "output_type": "execute_result"
    },
    {
     "data": {
      "image/png": "[encoded data removed]",
      "text/plain": [
       "<Figure size 432x288 with 1 Axes>"
      ]
     },
     "metadata": {},
     "output_type": "display_data"
    }
   ],
   "source": [
    "data[data['classification']==0]['employmentsince'].hist(alpha=0.9,color='red')\n",
    "data[data['classification']==1]['employmentsince'].hist(alpha=0.3,color='blue')"
   ]
  },
  {
   "cell_type": "raw",
   "metadata": {},
   "source": [
    "      Present employment since\n",
    "\t      A71 : unemployed\n",
    "\t      A72 :       ... < 1 year\n",
    "\t      A73 : 1  <= ... < 4 years  \n",
    "\t      A74 : 4  <= ... < 7 years\n",
    "\t      A75 :       .. >= 7 years"
   ]
  },
  {
   "cell_type": "code",
   "execution_count": 67,
   "metadata": {},
   "outputs": [
    {
     "data": {
      "text/html": [
       "<div>\n",
       "<style scoped>\n",
       "    .dataframe tbody tr th:only-of-type {\n",
       "        vertical-align: middle;\n",
       "    }\n",
       "\n",
       "    .dataframe tbody tr th {\n",
       "        vertical-align: top;\n",
       "    }\n",
       "\n",
       "    .dataframe thead th {\n",
       "        text-align: right;\n",
       "    }\n",
       "</style>\n",
       "<table border=\"1\" class=\"dataframe\">\n",
       "  <thead>\n",
       "    <tr style=\"text-align: right;\">\n",
       "      <th></th>\n",
       "      <th>creditamount</th>\n",
       "      <th>duration</th>\n",
       "      <th>installmentrate</th>\n",
       "      <th>residencesince</th>\n",
       "      <th>age</th>\n",
       "      <th>existingcredits</th>\n",
       "      <th>peopleliable</th>\n",
       "      <th>classification</th>\n",
       "      <th>existingchecking</th>\n",
       "      <th>credithistory</th>\n",
       "      <th>...</th>\n",
       "      <th>savings</th>\n",
       "      <th>employmentsince</th>\n",
       "      <th>statussex</th>\n",
       "      <th>otherdebtors</th>\n",
       "      <th>property</th>\n",
       "      <th>otherinstallmentplans</th>\n",
       "      <th>housing</th>\n",
       "      <th>job</th>\n",
       "      <th>telephone</th>\n",
       "      <th>foreignworker</th>\n",
       "    </tr>\n",
       "  </thead>\n",
       "  <tbody>\n",
       "    <tr>\n",
       "      <th>0</th>\n",
       "      <td>11</td>\n",
       "      <td>6</td>\n",
       "      <td>4</td>\n",
       "      <td>4</td>\n",
       "      <td>67</td>\n",
       "      <td>2</td>\n",
       "      <td>1</td>\n",
       "      <td>1</td>\n",
       "      <td>0</td>\n",
       "      <td>4</td>\n",
       "      <td>...</td>\n",
       "      <td>4</td>\n",
       "      <td>4</td>\n",
       "      <td>2</td>\n",
       "      <td>0</td>\n",
       "      <td>0</td>\n",
       "      <td>2</td>\n",
       "      <td>1</td>\n",
       "      <td>2</td>\n",
       "      <td>1</td>\n",
       "      <td>0</td>\n",
       "    </tr>\n",
       "    <tr>\n",
       "      <th>1</th>\n",
       "      <td>59</td>\n",
       "      <td>48</td>\n",
       "      <td>2</td>\n",
       "      <td>2</td>\n",
       "      <td>22</td>\n",
       "      <td>1</td>\n",
       "      <td>1</td>\n",
       "      <td>0</td>\n",
       "      <td>1</td>\n",
       "      <td>2</td>\n",
       "      <td>...</td>\n",
       "      <td>0</td>\n",
       "      <td>2</td>\n",
       "      <td>1</td>\n",
       "      <td>0</td>\n",
       "      <td>0</td>\n",
       "      <td>2</td>\n",
       "      <td>1</td>\n",
       "      <td>2</td>\n",
       "      <td>0</td>\n",
       "      <td>0</td>\n",
       "    </tr>\n",
       "    <tr>\n",
       "      <th>2</th>\n",
       "      <td>20</td>\n",
       "      <td>12</td>\n",
       "      <td>2</td>\n",
       "      <td>3</td>\n",
       "      <td>49</td>\n",
       "      <td>1</td>\n",
       "      <td>2</td>\n",
       "      <td>1</td>\n",
       "      <td>3</td>\n",
       "      <td>4</td>\n",
       "      <td>...</td>\n",
       "      <td>0</td>\n",
       "      <td>3</td>\n",
       "      <td>2</td>\n",
       "      <td>0</td>\n",
       "      <td>0</td>\n",
       "      <td>2</td>\n",
       "      <td>1</td>\n",
       "      <td>1</td>\n",
       "      <td>0</td>\n",
       "      <td>0</td>\n",
       "    </tr>\n",
       "    <tr>\n",
       "      <th>3</th>\n",
       "      <td>78</td>\n",
       "      <td>42</td>\n",
       "      <td>2</td>\n",
       "      <td>4</td>\n",
       "      <td>45</td>\n",
       "      <td>1</td>\n",
       "      <td>2</td>\n",
       "      <td>1</td>\n",
       "      <td>0</td>\n",
       "      <td>2</td>\n",
       "      <td>...</td>\n",
       "      <td>0</td>\n",
       "      <td>3</td>\n",
       "      <td>2</td>\n",
       "      <td>2</td>\n",
       "      <td>1</td>\n",
       "      <td>2</td>\n",
       "      <td>2</td>\n",
       "      <td>2</td>\n",
       "      <td>0</td>\n",
       "      <td>0</td>\n",
       "    </tr>\n",
       "    <tr>\n",
       "      <th>4</th>\n",
       "      <td>48</td>\n",
       "      <td>24</td>\n",
       "      <td>3</td>\n",
       "      <td>4</td>\n",
       "      <td>53</td>\n",
       "      <td>2</td>\n",
       "      <td>2</td>\n",
       "      <td>0</td>\n",
       "      <td>0</td>\n",
       "      <td>3</td>\n",
       "      <td>...</td>\n",
       "      <td>0</td>\n",
       "      <td>2</td>\n",
       "      <td>2</td>\n",
       "      <td>0</td>\n",
       "      <td>3</td>\n",
       "      <td>2</td>\n",
       "      <td>2</td>\n",
       "      <td>2</td>\n",
       "      <td>0</td>\n",
       "      <td>0</td>\n",
       "    </tr>\n",
       "    <tr>\n",
       "      <th>...</th>\n",
       "      <td>...</td>\n",
       "      <td>...</td>\n",
       "      <td>...</td>\n",
       "      <td>...</td>\n",
       "      <td>...</td>\n",
       "      <td>...</td>\n",
       "      <td>...</td>\n",
       "      <td>...</td>\n",
       "      <td>...</td>\n",
       "      <td>...</td>\n",
       "      <td>...</td>\n",
       "      <td>...</td>\n",
       "      <td>...</td>\n",
       "      <td>...</td>\n",
       "      <td>...</td>\n",
       "      <td>...</td>\n",
       "      <td>...</td>\n",
       "      <td>...</td>\n",
       "      <td>...</td>\n",
       "      <td>...</td>\n",
       "      <td>...</td>\n",
       "    </tr>\n",
       "    <tr>\n",
       "      <th>995</th>\n",
       "      <td>17</td>\n",
       "      <td>12</td>\n",
       "      <td>3</td>\n",
       "      <td>4</td>\n",
       "      <td>31</td>\n",
       "      <td>1</td>\n",
       "      <td>1</td>\n",
       "      <td>1</td>\n",
       "      <td>3</td>\n",
       "      <td>2</td>\n",
       "      <td>...</td>\n",
       "      <td>0</td>\n",
       "      <td>3</td>\n",
       "      <td>1</td>\n",
       "      <td>0</td>\n",
       "      <td>0</td>\n",
       "      <td>2</td>\n",
       "      <td>1</td>\n",
       "      <td>1</td>\n",
       "      <td>0</td>\n",
       "      <td>0</td>\n",
       "    </tr>\n",
       "    <tr>\n",
       "      <th>996</th>\n",
       "      <td>38</td>\n",
       "      <td>30</td>\n",
       "      <td>4</td>\n",
       "      <td>4</td>\n",
       "      <td>40</td>\n",
       "      <td>1</td>\n",
       "      <td>1</td>\n",
       "      <td>1</td>\n",
       "      <td>0</td>\n",
       "      <td>2</td>\n",
       "      <td>...</td>\n",
       "      <td>0</td>\n",
       "      <td>2</td>\n",
       "      <td>0</td>\n",
       "      <td>0</td>\n",
       "      <td>1</td>\n",
       "      <td>2</td>\n",
       "      <td>1</td>\n",
       "      <td>3</td>\n",
       "      <td>1</td>\n",
       "      <td>0</td>\n",
       "    </tr>\n",
       "    <tr>\n",
       "      <th>997</th>\n",
       "      <td>8</td>\n",
       "      <td>12</td>\n",
       "      <td>4</td>\n",
       "      <td>4</td>\n",
       "      <td>38</td>\n",
       "      <td>1</td>\n",
       "      <td>1</td>\n",
       "      <td>1</td>\n",
       "      <td>3</td>\n",
       "      <td>2</td>\n",
       "      <td>...</td>\n",
       "      <td>0</td>\n",
       "      <td>4</td>\n",
       "      <td>2</td>\n",
       "      <td>0</td>\n",
       "      <td>2</td>\n",
       "      <td>2</td>\n",
       "      <td>1</td>\n",
       "      <td>2</td>\n",
       "      <td>0</td>\n",
       "      <td>0</td>\n",
       "    </tr>\n",
       "    <tr>\n",
       "      <th>998</th>\n",
       "      <td>18</td>\n",
       "      <td>45</td>\n",
       "      <td>4</td>\n",
       "      <td>4</td>\n",
       "      <td>23</td>\n",
       "      <td>1</td>\n",
       "      <td>1</td>\n",
       "      <td>0</td>\n",
       "      <td>0</td>\n",
       "      <td>2</td>\n",
       "      <td>...</td>\n",
       "      <td>0</td>\n",
       "      <td>2</td>\n",
       "      <td>2</td>\n",
       "      <td>0</td>\n",
       "      <td>3</td>\n",
       "      <td>2</td>\n",
       "      <td>2</td>\n",
       "      <td>2</td>\n",
       "      <td>1</td>\n",
       "      <td>0</td>\n",
       "    </tr>\n",
       "    <tr>\n",
       "      <th>999</th>\n",
       "      <td>45</td>\n",
       "      <td>45</td>\n",
       "      <td>3</td>\n",
       "      <td>4</td>\n",
       "      <td>27</td>\n",
       "      <td>1</td>\n",
       "      <td>1</td>\n",
       "      <td>1</td>\n",
       "      <td>1</td>\n",
       "      <td>4</td>\n",
       "      <td>...</td>\n",
       "      <td>1</td>\n",
       "      <td>0</td>\n",
       "      <td>2</td>\n",
       "      <td>0</td>\n",
       "      <td>2</td>\n",
       "      <td>2</td>\n",
       "      <td>1</td>\n",
       "      <td>2</td>\n",
       "      <td>0</td>\n",
       "      <td>0</td>\n",
       "    </tr>\n",
       "  </tbody>\n",
       "</table>\n",
       "<p>1000 rows × 21 columns</p>\n",
       "</div>"
      ],
      "text/plain": [
       "     creditamount  duration  installmentrate  residencesince  age  \\\n",
       "0              11         6                4               4   67   \n",
       "1              59        48                2               2   22   \n",
       "2              20        12                2               3   49   \n",
       "3              78        42                2               4   45   \n",
       "4              48        24                3               4   53   \n",
       "..            ...       ...              ...             ...  ...   \n",
       "995            17        12                3               4   31   \n",
       "996            38        30                4               4   40   \n",
       "997             8        12                4               4   38   \n",
       "998            18        45                4               4   23   \n",
       "999            45        45                3               4   27   \n",
       "\n",
       "     existingcredits  peopleliable  classification  existingchecking  \\\n",
       "0                  2             1               1                 0   \n",
       "1                  1             1               0                 1   \n",
       "2                  1             2               1                 3   \n",
       "3                  1             2               1                 0   \n",
       "4                  2             2               0                 0   \n",
       "..               ...           ...             ...               ...   \n",
       "995                1             1               1                 3   \n",
       "996                1             1               1                 0   \n",
       "997                1             1               1                 3   \n",
       "998                1             1               0                 0   \n",
       "999                1             1               1                 1   \n",
       "\n",
       "     credithistory  ...  savings  employmentsince  statussex  otherdebtors  \\\n",
       "0                4  ...        4                4          2             0   \n",
       "1                2  ...        0                2          1             0   \n",
       "2                4  ...        0                3          2             0   \n",
       "3                2  ...        0                3          2             2   \n",
       "4                3  ...        0                2          2             0   \n",
       "..             ...  ...      ...              ...        ...           ...   \n",
       "995              2  ...        0                3          1             0   \n",
       "996              2  ...        0                2          0             0   \n",
       "997              2  ...        0                4          2             0   \n",
       "998              2  ...        0                2          2             0   \n",
       "999              4  ...        1                0          2             0   \n",
       "\n",
       "     property  otherinstallmentplans  housing  job  telephone  foreignworker  \n",
       "0           0                      2        1    2          1              0  \n",
       "1           0                      2        1    2          0              0  \n",
       "2           0                      2        1    1          0              0  \n",
       "3           1                      2        2    2          0              0  \n",
       "4           3                      2        2    2          0              0  \n",
       "..        ...                    ...      ...  ...        ...            ...  \n",
       "995         0                      2        1    1          0              0  \n",
       "996         1                      2        1    3          1              0  \n",
       "997         2                      2        1    2          0              0  \n",
       "998         3                      2        2    2          1              0  \n",
       "999         2                      2        1    2          0              0  \n",
       "\n",
       "[1000 rows x 21 columns]"
      ]
     },
     "execution_count": 67,
     "metadata": {},
     "output_type": "execute_result"
    }
   ],
   "source": [
    "data_clean['creditamount'] = data_clean['creditamount']//100\n",
    "data_clean"
   ]
  },
  {
   "cell_type": "code",
   "execution_count": 68,
   "metadata": {},
   "outputs": [],
   "source": [
    "# Unscaled, unnormalized data\n",
    "X_clean = data_clean.drop('classification', axis=1)\n",
    "y_clean = data_clean['classification']\n",
    "X_train_clean, X_test_clean, y_train_clean, y_test_clean = train_test_split(X_clean,y_clean,test_size=0.2,random_state=111)"
   ]
  },
  {
   "cell_type": "code",
   "execution_count": 69,
   "metadata": {},
   "outputs": [],
   "source": [
    "from sklearn.preprocessing import StandardScaler  \n",
    "scaler = StandardScaler()  \n",
    "scaler.fit(X_train_clean)\n",
    "\n",
    "X_train_clean = scaler.transform(X_train_clean)  \n",
    "X_test_clean = scaler.transform(X_test_clean) "
   ]
  },
  {
   "cell_type": "code",
   "execution_count": null,
   "metadata": {},
   "outputs": [],
   "source": []
  },
  {
   "cell_type": "code",
   "execution_count": 70,
   "metadata": {},
   "outputs": [
    {
     "name": "stdout",
     "output_type": "stream",
     "text": [
      "Iteration 1, loss = 0.72023734\n",
      "Iteration 2, loss = 0.62206722\n",
      "Iteration 3, loss = 0.58514567\n",
      "Iteration 4, loss = 0.56860313\n",
      "Iteration 5, loss = 0.54954704\n",
      "Iteration 6, loss = 0.52533085\n",
      "Iteration 7, loss = 0.50709346\n",
      "Iteration 8, loss = 0.49395381\n",
      "Iteration 9, loss = 0.48228239\n",
      "Iteration 10, loss = 0.46944567\n",
      "Iteration 11, loss = 0.46034552\n",
      "Iteration 12, loss = 0.45217586\n",
      "Iteration 13, loss = 0.44467625\n",
      "Iteration 14, loss = 0.43815667\n",
      "Iteration 15, loss = 0.43065631\n",
      "Iteration 16, loss = 0.42333819\n",
      "Iteration 17, loss = 0.41649356\n",
      "Iteration 18, loss = 0.40902240\n",
      "Iteration 19, loss = 0.40195125\n",
      "Iteration 20, loss = 0.39407889\n",
      "Iteration 21, loss = 0.38707102\n",
      "Iteration 22, loss = 0.37799338\n",
      "Iteration 23, loss = 0.37036871\n",
      "Iteration 24, loss = 0.36049590\n",
      "Iteration 25, loss = 0.35251810\n",
      "Iteration 26, loss = 0.34216440\n",
      "Iteration 27, loss = 0.33293615\n",
      "Iteration 28, loss = 0.32227414\n",
      "Iteration 29, loss = 0.31378594\n",
      "Iteration 30, loss = 0.30110604\n",
      "Iteration 31, loss = 0.29289971\n",
      "Iteration 32, loss = 0.28054040\n",
      "Iteration 33, loss = 0.26962274\n",
      "Iteration 34, loss = 0.25859446\n",
      "Iteration 35, loss = 0.24805561\n",
      "Iteration 36, loss = 0.23670506\n",
      "Iteration 37, loss = 0.22450788\n",
      "Iteration 38, loss = 0.21315595\n",
      "Iteration 39, loss = 0.20232986\n",
      "Iteration 40, loss = 0.19573016\n",
      "Iteration 41, loss = 0.18591321\n",
      "Iteration 42, loss = 0.17228097\n",
      "Iteration 43, loss = 0.16324693\n",
      "Iteration 44, loss = 0.15251769\n",
      "Iteration 45, loss = 0.14446346\n",
      "Iteration 46, loss = 0.13558942\n",
      "Iteration 47, loss = 0.12754763\n",
      "Iteration 48, loss = 0.11730405\n",
      "Iteration 49, loss = 0.11028843\n",
      "Iteration 50, loss = 0.10400400\n",
      "Iteration 51, loss = 0.09737863\n",
      "Iteration 52, loss = 0.09003231\n",
      "Iteration 53, loss = 0.08239478\n",
      "Iteration 54, loss = 0.07731338\n",
      "Iteration 55, loss = 0.07055651\n",
      "Iteration 56, loss = 0.06609601\n",
      "Iteration 57, loss = 0.06020770\n",
      "Iteration 58, loss = 0.05546070\n",
      "Iteration 59, loss = 0.05115347\n",
      "Iteration 60, loss = 0.04763925\n",
      "Iteration 61, loss = 0.04370472\n",
      "Iteration 62, loss = 0.03973213\n",
      "Iteration 63, loss = 0.03660221\n",
      "Iteration 64, loss = 0.03406938\n",
      "Iteration 65, loss = 0.03129505\n",
      "Iteration 66, loss = 0.02928692\n",
      "Iteration 67, loss = 0.02687240\n",
      "Iteration 68, loss = 0.02486471\n",
      "Iteration 69, loss = 0.02281122\n",
      "Iteration 70, loss = 0.02124711\n",
      "Iteration 71, loss = 0.02010238\n",
      "Iteration 72, loss = 0.01910480\n",
      "Iteration 73, loss = 0.01721751\n",
      "Iteration 74, loss = 0.01625444\n",
      "Iteration 75, loss = 0.01559199\n",
      "Iteration 76, loss = 0.01440808\n",
      "Iteration 77, loss = 0.01349930\n",
      "Iteration 78, loss = 0.01255341\n",
      "Iteration 79, loss = 0.01193489\n",
      "Iteration 80, loss = 0.01098468\n",
      "Iteration 81, loss = 0.01072055\n",
      "Iteration 82, loss = 0.00991159\n",
      "Iteration 83, loss = 0.00953096\n",
      "Iteration 84, loss = 0.00898301\n",
      "Iteration 85, loss = 0.00844878\n",
      "Iteration 86, loss = 0.00797213\n",
      "Iteration 87, loss = 0.00758631\n",
      "Iteration 88, loss = 0.00727873\n",
      "Iteration 89, loss = 0.00691134\n",
      "Iteration 90, loss = 0.00656547\n",
      "Iteration 91, loss = 0.00631665\n",
      "Iteration 92, loss = 0.00604740\n",
      "Iteration 93, loss = 0.00578054\n",
      "Iteration 94, loss = 0.00555959\n",
      "Iteration 95, loss = 0.00534977\n",
      "Iteration 96, loss = 0.00512732\n",
      "Iteration 97, loss = 0.00493442\n",
      "Iteration 98, loss = 0.00476591\n",
      "Iteration 99, loss = 0.00456190\n",
      "Iteration 100, loss = 0.00438651\n",
      "Iteration 101, loss = 0.00425975\n",
      "Iteration 102, loss = 0.00410302\n",
      "Iteration 103, loss = 0.00397158\n",
      "Iteration 104, loss = 0.00384095\n",
      "Iteration 105, loss = 0.00369208\n",
      "Iteration 106, loss = 0.00358185\n",
      "Iteration 107, loss = 0.00348168\n",
      "Iteration 108, loss = 0.00335323\n",
      "Iteration 109, loss = 0.00325744\n",
      "Iteration 110, loss = 0.00315516\n",
      "Iteration 111, loss = 0.00307550\n",
      "Iteration 112, loss = 0.00296319\n",
      "Iteration 113, loss = 0.00288400\n",
      "Iteration 114, loss = 0.00280692\n",
      "Iteration 115, loss = 0.00272058\n",
      "Iteration 116, loss = 0.00263989\n",
      "Iteration 117, loss = 0.00256607\n",
      "Iteration 118, loss = 0.00249776\n",
      "Iteration 119, loss = 0.00244003\n",
      "Iteration 120, loss = 0.00237028\n",
      "Iteration 121, loss = 0.00231644\n",
      "Iteration 122, loss = 0.00226083\n",
      "Iteration 123, loss = 0.00220143\n",
      "Training loss did not improve more than tol=0.000100 for 10 consecutive epochs. Stopping.\n"
     ]
    },
    {
     "data": {
      "text/plain": [
       "MLPClassifier(activation='relu', alpha=0.0001, batch_size='auto', beta_1=0.9,\n",
       "              beta_2=0.999, early_stopping=False, epsilon=1e-08,\n",
       "              hidden_layer_sizes=(100, 40, 100), learning_rate='constant',\n",
       "              learning_rate_init=0.001, max_fun=15000, max_iter=1000,\n",
       "              momentum=0.9, n_iter_no_change=10, nesterovs_momentum=True,\n",
       "              power_t=0.5, random_state=None, shuffle=True, solver='adam',\n",
       "              tol=0.0001, validation_fraction=0.1, verbose=True,\n",
       "              warm_start=False)"
      ]
     },
     "execution_count": 70,
     "metadata": {},
     "output_type": "execute_result"
    }
   ],
   "source": [
    "from sklearn.neural_network import MLPClassifier \n",
    "mlp = MLPClassifier(hidden_layer_sizes=(100,40,100), max_iter=1000,verbose=True)  \n",
    "mlp.fit(X_train_clean, y_train_clean.values.reshape(-1))  "
   ]
  },
  {
   "cell_type": "code",
   "execution_count": 71,
   "metadata": {},
   "outputs": [],
   "source": [
    "predictions = mlp.predict(X_test_clean) "
   ]
  },
  {
   "cell_type": "code",
   "execution_count": 72,
   "metadata": {},
   "outputs": [
    {
     "name": "stdout",
     "output_type": "stream",
     "text": [
      "[[ 33  28]\n",
      " [ 20 119]]\n",
      "              precision    recall  f1-score   support\n",
      "\n",
      "           0       0.62      0.54      0.58        61\n",
      "           1       0.81      0.86      0.83       139\n",
      "\n",
      "    accuracy                           0.76       200\n",
      "   macro avg       0.72      0.70      0.71       200\n",
      "weighted avg       0.75      0.76      0.75       200\n",
      "\n"
     ]
    }
   ],
   "source": [
    "from sklearn.metrics import classification_report, confusion_matrix\n",
    "print(confusion_matrix(y_test_clean,predictions))\n",
    "print(classification_report(y_test_clean,predictions))\n",
    "#a,b,c,d,=confusion_matrix(y_test,predictions)"
   ]
  },
  {
   "cell_type": "code",
   "execution_count": 73,
   "metadata": {},
   "outputs": [
    {
     "data": {
      "text/plain": [
       "RandomForestClassifier(bootstrap=True, ccp_alpha=0.0, class_weight=None,\n",
       "                       criterion='gini', max_depth=None, max_features='auto',\n",
       "                       max_leaf_nodes=None, max_samples=None,\n",
       "                       min_impurity_decrease=0.0, min_impurity_split=None,\n",
       "                       min_samples_leaf=1, min_samples_split=2,\n",
       "                       min_weight_fraction_leaf=0.0, n_estimators=500,\n",
       "                       n_jobs=None, oob_score=False, random_state=None,\n",
       "                       verbose=0, warm_start=False)"
      ]
     },
     "execution_count": 73,
     "metadata": {},
     "output_type": "execute_result"
    }
   ],
   "source": [
    "from sklearn.ensemble import RandomForestClassifier\n",
    "rfc=RandomForestClassifier(n_estimators=500)\n",
    "rfc.fit(X_train_clean,y_train_clean)"
   ]
  },
  {
   "cell_type": "code",
   "execution_count": null,
   "metadata": {},
   "outputs": [],
   "source": []
  },
  {
   "cell_type": "code",
   "execution_count": 74,
   "metadata": {},
   "outputs": [],
   "source": [
    "predForest=rfc.predict(X_test_clean)"
   ]
  },
  {
   "cell_type": "code",
   "execution_count": 75,
   "metadata": {},
   "outputs": [
    {
     "data": {
      "text/plain": [
       "Index(['creditamount', 'duration', 'installmentrate', 'residencesince', 'age',\n",
       "       'existingcredits', 'peopleliable', 'existingchecking', 'credithistory',\n",
       "       'purpose', 'savings', 'employmentsince', 'statussex', 'otherdebtors',\n",
       "       'property', 'otherinstallmentplans', 'housing', 'job', 'telephone',\n",
       "       'foreignworker'],\n",
       "      dtype='object')"
      ]
     },
     "execution_count": 75,
     "metadata": {},
     "output_type": "execute_result"
    }
   ],
   "source": [
    "X_clean.columns"
   ]
  },
  {
   "cell_type": "code",
   "execution_count": 76,
   "metadata": {},
   "outputs": [
    {
     "name": "stdout",
     "output_type": "stream",
     "text": [
      "[[ 32  29]\n",
      " [  5 134]]\n",
      "              precision    recall  f1-score   support\n",
      "\n",
      "           0       0.86      0.52      0.65        61\n",
      "           1       0.82      0.96      0.89       139\n",
      "\n",
      "    accuracy                           0.83       200\n",
      "   macro avg       0.84      0.74      0.77       200\n",
      "weighted avg       0.84      0.83      0.82       200\n",
      "\n"
     ]
    }
   ],
   "source": [
    "print(confusion_matrix(y_test_clean,predForest))\n",
    "print(classification_report(y_test_clean,predForest))"
   ]
  },
  {
   "cell_type": "code",
   "execution_count": 115,
   "metadata": {},
   "outputs": [
    {
     "data": {
      "text/plain": [
       "0.6709517631796202"
      ]
     },
     "execution_count": 115,
     "metadata": {},
     "output_type": "execute_result"
    }
   ],
   "source": [
    "roc_auc_score(y_test_clean, predForest)"
   ]
  },
  {
   "cell_type": "code",
   "execution_count": 77,
   "metadata": {},
   "outputs": [
    {
     "data": {
      "text/plain": [
       "0.05000000000000001"
      ]
     },
     "execution_count": 77,
     "metadata": {},
     "output_type": "execute_result"
    }
   ],
   "source": [
    "np.mean(rfc.feature_importances_)"
   ]
  },
  {
   "cell_type": "code",
   "execution_count": 78,
   "metadata": {},
   "outputs": [
    {
     "data": {
      "text/plain": [
       "[('creditamount', 0.11877368696629373),\n",
       " ('duration', 0.0997914841555821),\n",
       " ('installmentrate', 0.043775441827528315),\n",
       " ('residencesince', 0.044184160936345994),\n",
       " ('age', 0.10752148475716623),\n",
       " ('existingcredits', 0.022858026264408082),\n",
       " ('peopleliable', 0.014123858304201159),\n",
       " ('existingchecking', 0.10553421326403514),\n",
       " ('credithistory', 0.06319885920121023),\n",
       " ('purpose', 0.06595430904309017),\n",
       " ('savings', 0.04722149137408549),\n",
       " ('employmentsince', 0.05203640863707029),\n",
       " ('statussex', 0.03962048117290068),\n",
       " ('otherdebtors', 0.02013783731798998),\n",
       " ('property', 0.044099985208677604),\n",
       " ('otherinstallmentplans', 0.02775120223280149),\n",
       " ('housing', 0.02616132961582475),\n",
       " ('job', 0.03198764520056608),\n",
       " ('telephone', 0.020418044357443224),\n",
       " ('foreignworker', 0.004850050162779359)]"
      ]
     },
     "execution_count": 78,
     "metadata": {},
     "output_type": "execute_result"
    }
   ],
   "source": [
    "b=list(zip(X_clean.columns,rfc.feature_importances_))\n",
    "b"
   ]
  },
  {
   "cell_type": "code",
   "execution_count": 79,
   "metadata": {
    "scrolled": true
   },
   "outputs": [
    {
     "name": "stdout",
     "output_type": "stream",
     "text": [
      "0.6128104460244479\n"
     ]
    },
    {
     "data": {
      "text/plain": [
       "[('creditamount', 0.11877368696629373),\n",
       " ('age', 0.10752148475716623),\n",
       " ('existingchecking', 0.10553421326403514),\n",
       " ('duration', 0.0997914841555821),\n",
       " ('purpose', 0.06595430904309017),\n",
       " ('credithistory', 0.06319885920121023),\n",
       " ('employmentsince', 0.05203640863707029)]"
      ]
     },
     "execution_count": 79,
     "metadata": {},
     "output_type": "execute_result"
    }
   ],
   "source": [
    "b.sort(key=lambda b: b[1],reverse=True)\n",
    "print(sum(x[1] for x in b if x[1]>np.mean(rfc.feature_importances_)))\n",
    "[x for x in b if x[1]>np.mean(rfc.feature_importances_)]"
   ]
  },
  {
   "cell_type": "code",
   "execution_count": 80,
   "metadata": {},
   "outputs": [
    {
     "data": {
      "text/plain": [
       "[('savings', 0.04722149137408549),\n",
       " ('residencesince', 0.044184160936345994),\n",
       " ('property', 0.044099985208677604),\n",
       " ('installmentrate', 0.043775441827528315),\n",
       " ('statussex', 0.03962048117290068),\n",
       " ('job', 0.03198764520056608),\n",
       " ('otherinstallmentplans', 0.02775120223280149),\n",
       " ('housing', 0.02616132961582475),\n",
       " ('existingcredits', 0.022858026264408082),\n",
       " ('telephone', 0.020418044357443224),\n",
       " ('otherdebtors', 0.02013783731798998),\n",
       " ('peopleliable', 0.014123858304201159),\n",
       " ('foreignworker', 0.004850050162779359)]"
      ]
     },
     "execution_count": 80,
     "metadata": {},
     "output_type": "execute_result"
    }
   ],
   "source": [
    "[x for x in b if x[1]<np.mean(rfc.feature_importances_)]"
   ]
  },
  {
   "cell_type": "code",
   "execution_count": 81,
   "metadata": {},
   "outputs": [],
   "source": [
    "from sklearn.naive_bayes import GaussianNB"
   ]
  },
  {
   "cell_type": "code",
   "execution_count": 82,
   "metadata": {},
   "outputs": [
    {
     "data": {
      "text/plain": [
       "GaussianNB(priors=None, var_smoothing=1e-09)"
      ]
     },
     "execution_count": 82,
     "metadata": {},
     "output_type": "execute_result"
    }
   ],
   "source": [
    "gnb = GaussianNB()\n",
    "gnb.fit(X_train_clean, y_train_clean)"
   ]
  },
  {
   "cell_type": "code",
   "execution_count": 83,
   "metadata": {},
   "outputs": [],
   "source": [
    "y_pred = gnb.predict(X_test_clean)"
   ]
  },
  {
   "cell_type": "code",
   "execution_count": 84,
   "metadata": {},
   "outputs": [
    {
     "name": "stdout",
     "output_type": "stream",
     "text": [
      "[[ 38  23]\n",
      " [ 30 109]]\n",
      "              precision    recall  f1-score   support\n",
      "\n",
      "           0       0.56      0.62      0.59        61\n",
      "           1       0.83      0.78      0.80       139\n",
      "\n",
      "    accuracy                           0.73       200\n",
      "   macro avg       0.69      0.70      0.70       200\n",
      "weighted avg       0.74      0.73      0.74       200\n",
      "\n"
     ]
    }
   ],
   "source": [
    "print(confusion_matrix(y_test_clean,y_pred))\n",
    "\n",
    "print(classification_report(y_test_clean,y_pred))"
   ]
  },
  {
   "cell_type": "code",
   "execution_count": 114,
   "metadata": {},
   "outputs": [
    {
     "data": {
      "text/plain": [
       "0.7035617407713174"
      ]
     },
     "execution_count": 114,
     "metadata": {},
     "output_type": "execute_result"
    }
   ],
   "source": [
    "roc_auc_score(y_test_clean, y_pred)"
   ]
  },
  {
   "cell_type": "code",
   "execution_count": 85,
   "metadata": {},
   "outputs": [
    {
     "data": {
      "text/plain": [
       "0.8270676691729323"
      ]
     },
     "execution_count": 85,
     "metadata": {},
     "output_type": "execute_result"
    }
   ],
   "source": [
    "110/133"
   ]
  },
  {
   "cell_type": "code",
   "execution_count": 86,
   "metadata": {},
   "outputs": [
    {
     "data": {
      "text/plain": [
       "['creditamount',\n",
       " 'age',\n",
       " 'existingchecking',\n",
       " 'duration',\n",
       " 'purpose',\n",
       " 'credithistory',\n",
       " 'employmentsince']"
      ]
     },
     "execution_count": 86,
     "metadata": {},
     "output_type": "execute_result"
    }
   ],
   "source": [
    "[x[0] for x in b if x[1]>np.mean(rfc.feature_importances_)]"
   ]
  },
  {
   "cell_type": "code",
   "execution_count": 87,
   "metadata": {},
   "outputs": [],
   "source": [
    "# Unscaled, unnormalized data\n",
    "X_clean_less = data_clean[[x[0] for x in b if x[1]>np.mean(rfc.feature_importances_)]]\n",
    "y_clean_less = data_clean['classification']\n",
    "X_train_clean_less, X_test_clean_less, y_train_clean_less, y_test_clean_less = train_test_split(X_clean_less,y_clean_less,test_size=0.2,random_state=111)"
   ]
  },
  {
   "cell_type": "code",
   "execution_count": 88,
   "metadata": {},
   "outputs": [
    {
     "data": {
      "text/html": [
       "<div>\n",
       "<style scoped>\n",
       "    .dataframe tbody tr th:only-of-type {\n",
       "        vertical-align: middle;\n",
       "    }\n",
       "\n",
       "    .dataframe tbody tr th {\n",
       "        vertical-align: top;\n",
       "    }\n",
       "\n",
       "    .dataframe thead th {\n",
       "        text-align: right;\n",
       "    }\n",
       "</style>\n",
       "<table border=\"1\" class=\"dataframe\">\n",
       "  <thead>\n",
       "    <tr style=\"text-align: right;\">\n",
       "      <th></th>\n",
       "      <th>creditamount</th>\n",
       "      <th>age</th>\n",
       "      <th>existingchecking</th>\n",
       "      <th>duration</th>\n",
       "      <th>purpose</th>\n",
       "      <th>credithistory</th>\n",
       "      <th>employmentsince</th>\n",
       "    </tr>\n",
       "  </thead>\n",
       "  <tbody>\n",
       "    <tr>\n",
       "      <th>0</th>\n",
       "      <td>11</td>\n",
       "      <td>67</td>\n",
       "      <td>0</td>\n",
       "      <td>6</td>\n",
       "      <td>4</td>\n",
       "      <td>4</td>\n",
       "      <td>4</td>\n",
       "    </tr>\n",
       "    <tr>\n",
       "      <th>1</th>\n",
       "      <td>59</td>\n",
       "      <td>22</td>\n",
       "      <td>1</td>\n",
       "      <td>48</td>\n",
       "      <td>4</td>\n",
       "      <td>2</td>\n",
       "      <td>2</td>\n",
       "    </tr>\n",
       "    <tr>\n",
       "      <th>2</th>\n",
       "      <td>20</td>\n",
       "      <td>49</td>\n",
       "      <td>3</td>\n",
       "      <td>12</td>\n",
       "      <td>7</td>\n",
       "      <td>4</td>\n",
       "      <td>3</td>\n",
       "    </tr>\n",
       "    <tr>\n",
       "      <th>3</th>\n",
       "      <td>78</td>\n",
       "      <td>45</td>\n",
       "      <td>0</td>\n",
       "      <td>42</td>\n",
       "      <td>3</td>\n",
       "      <td>2</td>\n",
       "      <td>3</td>\n",
       "    </tr>\n",
       "    <tr>\n",
       "      <th>4</th>\n",
       "      <td>48</td>\n",
       "      <td>53</td>\n",
       "      <td>0</td>\n",
       "      <td>24</td>\n",
       "      <td>0</td>\n",
       "      <td>3</td>\n",
       "      <td>2</td>\n",
       "    </tr>\n",
       "    <tr>\n",
       "      <th>...</th>\n",
       "      <td>...</td>\n",
       "      <td>...</td>\n",
       "      <td>...</td>\n",
       "      <td>...</td>\n",
       "      <td>...</td>\n",
       "      <td>...</td>\n",
       "      <td>...</td>\n",
       "    </tr>\n",
       "    <tr>\n",
       "      <th>995</th>\n",
       "      <td>17</td>\n",
       "      <td>31</td>\n",
       "      <td>3</td>\n",
       "      <td>12</td>\n",
       "      <td>3</td>\n",
       "      <td>2</td>\n",
       "      <td>3</td>\n",
       "    </tr>\n",
       "    <tr>\n",
       "      <th>996</th>\n",
       "      <td>38</td>\n",
       "      <td>40</td>\n",
       "      <td>0</td>\n",
       "      <td>30</td>\n",
       "      <td>1</td>\n",
       "      <td>2</td>\n",
       "      <td>2</td>\n",
       "    </tr>\n",
       "    <tr>\n",
       "      <th>997</th>\n",
       "      <td>8</td>\n",
       "      <td>38</td>\n",
       "      <td>3</td>\n",
       "      <td>12</td>\n",
       "      <td>4</td>\n",
       "      <td>2</td>\n",
       "      <td>4</td>\n",
       "    </tr>\n",
       "    <tr>\n",
       "      <th>998</th>\n",
       "      <td>18</td>\n",
       "      <td>23</td>\n",
       "      <td>0</td>\n",
       "      <td>45</td>\n",
       "      <td>4</td>\n",
       "      <td>2</td>\n",
       "      <td>2</td>\n",
       "    </tr>\n",
       "    <tr>\n",
       "      <th>999</th>\n",
       "      <td>45</td>\n",
       "      <td>27</td>\n",
       "      <td>1</td>\n",
       "      <td>45</td>\n",
       "      <td>1</td>\n",
       "      <td>4</td>\n",
       "      <td>0</td>\n",
       "    </tr>\n",
       "  </tbody>\n",
       "</table>\n",
       "<p>1000 rows × 7 columns</p>\n",
       "</div>"
      ],
      "text/plain": [
       "     creditamount  age  existingchecking  duration  purpose  credithistory  \\\n",
       "0              11   67                 0         6        4              4   \n",
       "1              59   22                 1        48        4              2   \n",
       "2              20   49                 3        12        7              4   \n",
       "3              78   45                 0        42        3              2   \n",
       "4              48   53                 0        24        0              3   \n",
       "..            ...  ...               ...       ...      ...            ...   \n",
       "995            17   31                 3        12        3              2   \n",
       "996            38   40                 0        30        1              2   \n",
       "997             8   38                 3        12        4              2   \n",
       "998            18   23                 0        45        4              2   \n",
       "999            45   27                 1        45        1              4   \n",
       "\n",
       "     employmentsince  \n",
       "0                  4  \n",
       "1                  2  \n",
       "2                  3  \n",
       "3                  3  \n",
       "4                  2  \n",
       "..               ...  \n",
       "995                3  \n",
       "996                2  \n",
       "997                4  \n",
       "998                2  \n",
       "999                0  \n",
       "\n",
       "[1000 rows x 7 columns]"
      ]
     },
     "execution_count": 88,
     "metadata": {},
     "output_type": "execute_result"
    }
   ],
   "source": [
    "X_clean_less"
   ]
  },
  {
   "cell_type": "code",
   "execution_count": 89,
   "metadata": {},
   "outputs": [],
   "source": [
    "scaler = StandardScaler()  \n",
    "scaler.fit(X_train_clean_less)\n",
    "\n",
    "X_train_clean_less = scaler.transform(X_train_clean_less)  \n",
    "X_test_clean_less = scaler.transform(X_test_clean_less) "
   ]
  },
  {
   "cell_type": "code",
   "execution_count": 90,
   "metadata": {},
   "outputs": [
    {
     "name": "stdout",
     "output_type": "stream",
     "text": [
      "Iteration 1, loss = 0.69376687\n",
      "Iteration 2, loss = 0.63737655\n",
      "Iteration 3, loss = 0.60375199\n",
      "Iteration 4, loss = 0.58353138\n",
      "Iteration 5, loss = 0.56580130\n",
      "Iteration 6, loss = 0.54819724\n",
      "Iteration 7, loss = 0.53034015\n",
      "Iteration 8, loss = 0.51630612\n",
      "Iteration 9, loss = 0.50839267\n",
      "Iteration 10, loss = 0.50449071\n",
      "Iteration 11, loss = 0.49961678\n",
      "Iteration 12, loss = 0.49627614\n",
      "Iteration 13, loss = 0.49376511\n",
      "Iteration 14, loss = 0.49034155\n",
      "Iteration 15, loss = 0.48605482\n",
      "Iteration 16, loss = 0.48328066\n",
      "Iteration 17, loss = 0.48052349\n",
      "Iteration 18, loss = 0.47766849\n",
      "Iteration 19, loss = 0.47420853\n",
      "Iteration 20, loss = 0.47143420\n",
      "Iteration 21, loss = 0.46811279\n",
      "Iteration 22, loss = 0.46527157\n",
      "Iteration 23, loss = 0.46235965\n",
      "Iteration 24, loss = 0.45958581\n",
      "Iteration 25, loss = 0.45644915\n",
      "Iteration 26, loss = 0.45298393\n",
      "Iteration 27, loss = 0.45112503\n",
      "Iteration 28, loss = 0.44667575\n",
      "Iteration 29, loss = 0.44448383\n",
      "Iteration 30, loss = 0.44144676\n",
      "Iteration 31, loss = 0.43839502\n",
      "Iteration 32, loss = 0.43561496\n",
      "Iteration 33, loss = 0.43210039\n",
      "Iteration 34, loss = 0.42913589\n",
      "Iteration 35, loss = 0.42492097\n",
      "Iteration 36, loss = 0.42351558\n",
      "Iteration 37, loss = 0.42011795\n",
      "Iteration 38, loss = 0.41690710\n",
      "Iteration 39, loss = 0.41365374\n",
      "Iteration 40, loss = 0.41031247\n",
      "Iteration 41, loss = 0.40737167\n",
      "Iteration 42, loss = 0.40414711\n",
      "Iteration 43, loss = 0.40003706\n",
      "Iteration 44, loss = 0.39749208\n",
      "Iteration 45, loss = 0.39590291\n",
      "Iteration 46, loss = 0.39036490\n",
      "Iteration 47, loss = 0.38872161\n",
      "Iteration 48, loss = 0.38387069\n",
      "Iteration 49, loss = 0.38215495\n",
      "Iteration 50, loss = 0.37806832\n",
      "Iteration 51, loss = 0.37600874\n",
      "Iteration 52, loss = 0.37225105\n",
      "Iteration 53, loss = 0.36919358\n",
      "Iteration 54, loss = 0.36519033\n",
      "Iteration 55, loss = 0.36184076\n",
      "Iteration 56, loss = 0.35825874\n",
      "Iteration 57, loss = 0.35586509\n",
      "Iteration 58, loss = 0.35194253\n",
      "Iteration 59, loss = 0.34941607\n",
      "Iteration 60, loss = 0.34650854\n",
      "Iteration 61, loss = 0.34222147\n",
      "Iteration 62, loss = 0.34010358\n",
      "Iteration 63, loss = 0.33550271\n",
      "Iteration 64, loss = 0.33299997\n",
      "Iteration 65, loss = 0.32986509\n",
      "Iteration 66, loss = 0.32550490\n",
      "Iteration 67, loss = 0.32452523\n",
      "Iteration 68, loss = 0.31996761\n",
      "Iteration 69, loss = 0.31602387\n",
      "Iteration 70, loss = 0.31291465\n",
      "Iteration 71, loss = 0.31018977\n",
      "Iteration 72, loss = 0.30673889\n",
      "Iteration 73, loss = 0.30250816\n",
      "Iteration 74, loss = 0.30034368\n",
      "Iteration 75, loss = 0.29768802\n",
      "Iteration 76, loss = 0.29465410\n",
      "Iteration 77, loss = 0.29068538\n",
      "Iteration 78, loss = 0.28804254\n",
      "Iteration 79, loss = 0.28477042\n",
      "Iteration 80, loss = 0.28181413\n",
      "Iteration 81, loss = 0.28093485\n",
      "Iteration 82, loss = 0.27528471\n",
      "Iteration 83, loss = 0.27156510\n",
      "Iteration 84, loss = 0.26806410\n",
      "Iteration 85, loss = 0.26613588\n",
      "Iteration 86, loss = 0.26252679\n",
      "Iteration 87, loss = 0.26191764\n",
      "Iteration 88, loss = 0.25789556\n",
      "Iteration 89, loss = 0.25584989\n",
      "Iteration 90, loss = 0.25556572\n",
      "Iteration 91, loss = 0.25429768\n",
      "Iteration 92, loss = 0.24272853\n",
      "Iteration 93, loss = 0.24189341\n",
      "Iteration 94, loss = 0.23992721\n",
      "Iteration 95, loss = 0.23297932\n",
      "Iteration 96, loss = 0.23108077\n",
      "Iteration 97, loss = 0.22827694\n",
      "Iteration 98, loss = 0.22640255\n",
      "Iteration 99, loss = 0.22327464\n",
      "Iteration 100, loss = 0.21610468\n",
      "Iteration 101, loss = 0.21648224\n",
      "Iteration 102, loss = 0.21091162\n",
      "Iteration 103, loss = 0.20965511\n",
      "Iteration 104, loss = 0.20879715\n",
      "Iteration 105, loss = 0.21079036\n",
      "Iteration 106, loss = 0.20490319\n",
      "Iteration 107, loss = 0.20131301\n",
      "Iteration 108, loss = 0.19901840\n",
      "Iteration 109, loss = 0.19505165\n",
      "Iteration 110, loss = 0.18803312\n",
      "Iteration 111, loss = 0.18862634\n",
      "Iteration 112, loss = 0.18434420\n",
      "Iteration 113, loss = 0.18220548\n",
      "Iteration 114, loss = 0.18030526\n",
      "Iteration 115, loss = 0.17449731\n",
      "Iteration 116, loss = 0.17544872\n",
      "Iteration 117, loss = 0.17182608\n",
      "Iteration 118, loss = 0.16695402\n",
      "Iteration 119, loss = 0.16530460\n",
      "Iteration 120, loss = 0.16110438\n",
      "Iteration 121, loss = 0.15901403\n",
      "Iteration 122, loss = 0.15550619\n",
      "Iteration 123, loss = 0.15373182\n",
      "Iteration 124, loss = 0.15100080\n",
      "Iteration 125, loss = 0.14849228\n",
      "Iteration 126, loss = 0.14458082\n",
      "Iteration 127, loss = 0.14376084\n",
      "Iteration 128, loss = 0.14537255\n",
      "Iteration 129, loss = 0.13884411\n",
      "Iteration 130, loss = 0.13740604\n",
      "Iteration 131, loss = 0.13397266\n",
      "Iteration 132, loss = 0.13353527\n",
      "Iteration 133, loss = 0.13355256\n",
      "Iteration 134, loss = 0.13381742\n",
      "Iteration 135, loss = 0.13761554\n",
      "Iteration 136, loss = 0.12956692\n",
      "Iteration 137, loss = 0.12690923\n",
      "Iteration 138, loss = 0.12963566\n",
      "Iteration 139, loss = 0.12480524\n",
      "Iteration 140, loss = 0.12489373\n",
      "Iteration 141, loss = 0.12325074\n",
      "Iteration 142, loss = 0.11936449\n",
      "Iteration 143, loss = 0.11982169\n",
      "Iteration 144, loss = 0.11757615\n",
      "Iteration 145, loss = 0.10988468\n",
      "Iteration 146, loss = 0.10940506\n",
      "Iteration 147, loss = 0.10773448\n",
      "Iteration 148, loss = 0.10766869\n",
      "Iteration 149, loss = 0.10522924\n",
      "Iteration 150, loss = 0.10186944\n",
      "Iteration 151, loss = 0.10039633\n",
      "Iteration 152, loss = 0.09785250\n",
      "Iteration 153, loss = 0.09684140\n",
      "Iteration 154, loss = 0.09728967\n",
      "Iteration 155, loss = 0.09643290\n",
      "Iteration 156, loss = 0.09664513\n",
      "Iteration 157, loss = 0.09101646\n",
      "Iteration 158, loss = 0.09175732\n",
      "Iteration 159, loss = 0.09033449\n",
      "Iteration 160, loss = 0.09004866\n",
      "Iteration 161, loss = 0.08880320\n",
      "Iteration 162, loss = 0.09031787\n",
      "Iteration 163, loss = 0.08417650\n",
      "Iteration 164, loss = 0.08497772\n",
      "Iteration 165, loss = 0.08508377\n",
      "Iteration 166, loss = 0.08950285\n",
      "Iteration 167, loss = 0.08950373\n",
      "Iteration 168, loss = 0.08784061\n",
      "Iteration 169, loss = 0.08505066\n",
      "Iteration 170, loss = 0.08007412\n",
      "Iteration 171, loss = 0.07665343\n",
      "Iteration 172, loss = 0.07527049\n",
      "Iteration 173, loss = 0.07708463\n",
      "Iteration 174, loss = 0.07203105\n",
      "Iteration 175, loss = 0.07077812\n",
      "Iteration 176, loss = 0.07089023\n",
      "Iteration 177, loss = 0.07069907\n",
      "Iteration 178, loss = 0.06968311\n",
      "Iteration 179, loss = 0.07276985\n",
      "Iteration 180, loss = 0.07101728\n",
      "Iteration 181, loss = 0.07004364\n",
      "Iteration 182, loss = 0.06955680\n",
      "Iteration 183, loss = 0.06611927\n",
      "Iteration 184, loss = 0.06521232\n",
      "Iteration 185, loss = 0.06376033\n",
      "Iteration 186, loss = 0.06293173\n",
      "Iteration 187, loss = 0.06166434\n",
      "Iteration 188, loss = 0.06033399\n",
      "Iteration 189, loss = 0.05912537\n",
      "Iteration 190, loss = 0.05978837\n",
      "Iteration 191, loss = 0.06006684\n",
      "Iteration 192, loss = 0.06314665\n",
      "Iteration 193, loss = 0.06274349\n",
      "Iteration 194, loss = 0.06036787\n",
      "Iteration 195, loss = 0.06024633\n",
      "Iteration 196, loss = 0.05818272\n",
      "Iteration 197, loss = 0.05844233\n",
      "Iteration 198, loss = 0.05756777\n",
      "Iteration 199, loss = 0.05420232\n",
      "Iteration 200, loss = 0.05365299\n",
      "Iteration 201, loss = 0.05303687\n",
      "Iteration 202, loss = 0.05445370\n",
      "Iteration 203, loss = 0.05495640\n",
      "Iteration 204, loss = 0.05157284\n",
      "Iteration 205, loss = 0.05011830\n",
      "Iteration 206, loss = 0.05108740\n",
      "Iteration 207, loss = 0.05050436\n",
      "Iteration 208, loss = 0.04988048\n",
      "Iteration 209, loss = 0.04969010\n",
      "Iteration 210, loss = 0.04812309\n",
      "Iteration 211, loss = 0.04870745\n",
      "Iteration 212, loss = 0.04612886\n",
      "Iteration 213, loss = 0.04650519\n",
      "Iteration 214, loss = 0.04736471\n",
      "Iteration 215, loss = 0.04521028\n",
      "Iteration 216, loss = 0.04393488\n",
      "Iteration 217, loss = 0.04475292\n",
      "Iteration 218, loss = 0.04358349\n",
      "Iteration 219, loss = 0.04340303\n",
      "Iteration 220, loss = 0.04282683\n",
      "Iteration 221, loss = 0.04340437\n",
      "Iteration 222, loss = 0.04265853\n",
      "Iteration 223, loss = 0.04368550\n",
      "Iteration 224, loss = 0.04235574\n",
      "Iteration 225, loss = 0.04221500\n",
      "Iteration 226, loss = 0.04158302\n",
      "Iteration 227, loss = 0.04884217\n",
      "Iteration 228, loss = 0.05505841\n",
      "Iteration 229, loss = 0.05650076\n",
      "Iteration 230, loss = 0.05282412\n",
      "Iteration 231, loss = 0.06894604\n",
      "Iteration 232, loss = 0.05855038\n",
      "Iteration 233, loss = 0.05341239\n",
      "Iteration 234, loss = 0.04841908\n",
      "Iteration 235, loss = 0.04328584\n",
      "Iteration 236, loss = 0.04020869\n",
      "Iteration 237, loss = 0.04011007\n",
      "Iteration 238, loss = 0.04249191\n",
      "Iteration 239, loss = 0.03947976\n",
      "Iteration 240, loss = 0.04103147\n",
      "Iteration 241, loss = 0.03889394\n",
      "Iteration 242, loss = 0.03893239\n",
      "Iteration 243, loss = 0.03491658\n",
      "Iteration 244, loss = 0.03643883\n",
      "Iteration 245, loss = 0.03454080\n",
      "Iteration 246, loss = 0.03464348\n",
      "Iteration 247, loss = 0.03668738\n",
      "Iteration 248, loss = 0.03572664\n",
      "Iteration 249, loss = 0.03328208\n",
      "Iteration 250, loss = 0.03342039\n",
      "Iteration 251, loss = 0.03371756\n",
      "Iteration 252, loss = 0.03484747\n",
      "Iteration 253, loss = 0.03279012\n",
      "Iteration 254, loss = 0.03276943\n"
     ]
    },
    {
     "name": "stdout",
     "output_type": "stream",
     "text": [
      "Iteration 255, loss = 0.03119870\n",
      "Iteration 256, loss = 0.03166445\n",
      "Iteration 257, loss = 0.03120468\n",
      "Iteration 258, loss = 0.03123913\n",
      "Iteration 259, loss = 0.03037772\n",
      "Iteration 260, loss = 0.03169510\n",
      "Iteration 261, loss = 0.03259146\n",
      "Iteration 262, loss = 0.03159498\n",
      "Iteration 263, loss = 0.03143843\n",
      "Iteration 264, loss = 0.03158940\n",
      "Iteration 265, loss = 0.02855246\n",
      "Iteration 266, loss = 0.02876499\n",
      "Iteration 267, loss = 0.03297390\n",
      "Iteration 268, loss = 0.03040410\n",
      "Iteration 269, loss = 0.02908451\n",
      "Iteration 270, loss = 0.03024170\n",
      "Iteration 271, loss = 0.02883520\n",
      "Iteration 272, loss = 0.02791012\n",
      "Iteration 273, loss = 0.02828364\n",
      "Iteration 274, loss = 0.02726323\n",
      "Iteration 275, loss = 0.02707020\n",
      "Iteration 276, loss = 0.02724762\n",
      "Iteration 277, loss = 0.02610505\n",
      "Iteration 278, loss = 0.02706192\n",
      "Iteration 279, loss = 0.02765874\n",
      "Iteration 280, loss = 0.02799790\n",
      "Iteration 281, loss = 0.03216190\n",
      "Iteration 282, loss = 0.02688481\n",
      "Iteration 283, loss = 0.02759271\n",
      "Iteration 284, loss = 0.02575050\n",
      "Iteration 285, loss = 0.02652425\n",
      "Iteration 286, loss = 0.02572122\n",
      "Iteration 287, loss = 0.02504238\n",
      "Iteration 288, loss = 0.02591620\n",
      "Iteration 289, loss = 0.02603664\n",
      "Iteration 290, loss = 0.02586973\n",
      "Iteration 291, loss = 0.02510766\n",
      "Iteration 292, loss = 0.02540586\n",
      "Iteration 293, loss = 0.02351279\n",
      "Iteration 294, loss = 0.02821161\n",
      "Iteration 295, loss = 0.02376102\n",
      "Iteration 296, loss = 0.02615435\n",
      "Iteration 297, loss = 0.02588128\n",
      "Iteration 298, loss = 0.02377657\n",
      "Iteration 299, loss = 0.02272376\n",
      "Iteration 300, loss = 0.02311358\n",
      "Iteration 301, loss = 0.02178131\n",
      "Iteration 302, loss = 0.02272144\n",
      "Iteration 303, loss = 0.02170104\n",
      "Iteration 304, loss = 0.02293902\n",
      "Iteration 305, loss = 0.02253096\n",
      "Iteration 306, loss = 0.02172884\n",
      "Iteration 307, loss = 0.02301116\n",
      "Iteration 308, loss = 0.02340789\n",
      "Iteration 309, loss = 0.02305296\n",
      "Iteration 310, loss = 0.02187001\n",
      "Iteration 311, loss = 0.02389680\n",
      "Iteration 312, loss = 0.02213492\n",
      "Training loss did not improve more than tol=0.000100 for 10 consecutive epochs. Stopping.\n"
     ]
    },
    {
     "data": {
      "text/plain": [
       "MLPClassifier(activation='relu', alpha=0.0001, batch_size='auto', beta_1=0.9,\n",
       "              beta_2=0.999, early_stopping=False, epsilon=1e-08,\n",
       "              hidden_layer_sizes=(100, 40, 100), learning_rate='constant',\n",
       "              learning_rate_init=0.001, max_fun=15000, max_iter=1000,\n",
       "              momentum=0.9, n_iter_no_change=10, nesterovs_momentum=True,\n",
       "              power_t=0.5, random_state=None, shuffle=True, solver='adam',\n",
       "              tol=0.0001, validation_fraction=0.1, verbose=True,\n",
       "              warm_start=False)"
      ]
     },
     "execution_count": 90,
     "metadata": {},
     "output_type": "execute_result"
    }
   ],
   "source": [
    "from sklearn.neural_network import MLPClassifier \n",
    "mlp = MLPClassifier(hidden_layer_sizes=(100,40,100), max_iter=1000,verbose=True)  \n",
    "mlp.fit(X_train_clean_less, y_train_clean_less.values.reshape(-1))  "
   ]
  },
  {
   "cell_type": "code",
   "execution_count": 91,
   "metadata": {},
   "outputs": [],
   "source": [
    "predictions = mlp.predict(X_test_clean_less) "
   ]
  },
  {
   "cell_type": "code",
   "execution_count": 110,
   "metadata": {},
   "outputs": [
    {
     "name": "stdout",
     "output_type": "stream",
     "text": [
      "[[ 31  30]\n",
      " [ 33 106]]\n",
      "              precision    recall  f1-score   support\n",
      "\n",
      "           0       0.48      0.51      0.50        61\n",
      "           1       0.78      0.76      0.77       139\n",
      "\n",
      "    accuracy                           0.69       200\n",
      "   macro avg       0.63      0.64      0.63       200\n",
      "weighted avg       0.69      0.69      0.69       200\n",
      "\n"
     ]
    },
    {
     "data": {
      "text/html": [
       "<div>\n",
       "<style scoped>\n",
       "    .dataframe tbody tr th:only-of-type {\n",
       "        vertical-align: middle;\n",
       "    }\n",
       "\n",
       "    .dataframe tbody tr th {\n",
       "        vertical-align: top;\n",
       "    }\n",
       "\n",
       "    .dataframe thead th {\n",
       "        text-align: right;\n",
       "    }\n",
       "</style>\n",
       "<table border=\"1\" class=\"dataframe\">\n",
       "  <thead>\n",
       "    <tr style=\"text-align: right;\">\n",
       "      <th></th>\n",
       "      <th>Predicted Negative</th>\n",
       "      <th>Predicted Positive</th>\n",
       "    </tr>\n",
       "  </thead>\n",
       "  <tbody>\n",
       "    <tr>\n",
       "      <th>Actual Negative</th>\n",
       "      <td>31</td>\n",
       "      <td>30</td>\n",
       "    </tr>\n",
       "    <tr>\n",
       "      <th>Actual Positive</th>\n",
       "      <td>33</td>\n",
       "      <td>106</td>\n",
       "    </tr>\n",
       "  </tbody>\n",
       "</table>\n",
       "</div>"
      ],
      "text/plain": [
       "                 Predicted Negative  Predicted Positive\n",
       "Actual Negative                  31                  30\n",
       "Actual Positive                  33                 106"
      ]
     },
     "execution_count": 110,
     "metadata": {},
     "output_type": "execute_result"
    }
   ],
   "source": [
    "from sklearn.metrics import classification_report, confusion_matrix\n",
    "print(confusion_matrix(y_test_clean_less,predictions))\n",
    "print(classification_report(y_test_clean_less,predictions))\n",
    "#a,b,c,d,=confusion_matrix(y_test,predictions)\n",
    "\n",
    "pd.DataFrame(confusion_matrix(y_test_clean_less, predictions), \n",
    "             columns=['Predicted Negative', 'Predicted Positive'], \n",
    "             index=['Actual Negative', 'Actual Positive'])\n"
   ]
  },
  {
   "cell_type": "code",
   "execution_count": 93,
   "metadata": {},
   "outputs": [
    {
     "data": {
      "text/plain": [
       "RandomForestClassifier(bootstrap=True, ccp_alpha=0.0, class_weight=None,\n",
       "                       criterion='gini', max_depth=None, max_features='auto',\n",
       "                       max_leaf_nodes=None, max_samples=None,\n",
       "                       min_impurity_decrease=0.0, min_impurity_split=None,\n",
       "                       min_samples_leaf=1, min_samples_split=2,\n",
       "                       min_weight_fraction_leaf=0.0, n_estimators=500,\n",
       "                       n_jobs=None, oob_score=False, random_state=None,\n",
       "                       verbose=0, warm_start=False)"
      ]
     },
     "execution_count": 93,
     "metadata": {},
     "output_type": "execute_result"
    }
   ],
   "source": [
    "from sklearn.ensemble import RandomForestClassifier\n",
    "rfc=RandomForestClassifier(n_estimators=500)\n",
    "rfc.fit(X_train_clean_less,y_train_clean_less)"
   ]
  },
  {
   "cell_type": "code",
   "execution_count": 94,
   "metadata": {},
   "outputs": [],
   "source": [
    "predForest=rfc.predict(X_test_clean_less)"
   ]
  },
  {
   "cell_type": "code",
   "execution_count": 95,
   "metadata": {},
   "outputs": [
    {
     "name": "stdout",
     "output_type": "stream",
     "text": [
      "[[ 27  34]\n",
      " [ 14 125]]\n",
      "              precision    recall  f1-score   support\n",
      "\n",
      "           0       0.66      0.44      0.53        61\n",
      "           1       0.79      0.90      0.84       139\n",
      "\n",
      "    accuracy                           0.76       200\n",
      "   macro avg       0.72      0.67      0.68       200\n",
      "weighted avg       0.75      0.76      0.74       200\n",
      "\n"
     ]
    }
   ],
   "source": [
    "print(confusion_matrix(y_test_clean_less,predForest))\n",
    "print(classification_report(y_test_clean_less,predForest))"
   ]
  },
  {
   "cell_type": "code",
   "execution_count": 106,
   "metadata": {},
   "outputs": [
    {
     "data": {
      "text/plain": [
       "190    0\n",
       "104    1\n",
       "295    0\n",
       "12     1\n",
       "87     0\n",
       "      ..\n",
       "837    1\n",
       "446    0\n",
       "819    0\n",
       "11     0\n",
       "612    1\n",
       "Name: classification, Length: 200, dtype: int64"
      ]
     },
     "execution_count": 106,
     "metadata": {},
     "output_type": "execute_result"
    }
   ],
   "source": [
    "predForest\n",
    "y_test_clean_less"
   ]
  },
  {
   "cell_type": "code",
   "execution_count": 161,
   "metadata": {},
   "outputs": [
    {
     "data": {
      "text/html": [
       "<div>\n",
       "<style scoped>\n",
       "    .dataframe tbody tr th:only-of-type {\n",
       "        vertical-align: middle;\n",
       "    }\n",
       "\n",
       "    .dataframe tbody tr th {\n",
       "        vertical-align: top;\n",
       "    }\n",
       "\n",
       "    .dataframe thead th {\n",
       "        text-align: right;\n",
       "    }\n",
       "</style>\n",
       "<table border=\"1\" class=\"dataframe\">\n",
       "  <thead>\n",
       "    <tr style=\"text-align: right;\">\n",
       "      <th></th>\n",
       "      <th>Predicted Negative</th>\n",
       "      <th>Predicted Positive</th>\n",
       "    </tr>\n",
       "  </thead>\n",
       "  <tbody>\n",
       "    <tr>\n",
       "      <th>Actual Negative</th>\n",
       "      <td>31</td>\n",
       "      <td>30</td>\n",
       "    </tr>\n",
       "    <tr>\n",
       "      <th>Actual Positive</th>\n",
       "      <td>33</td>\n",
       "      <td>106</td>\n",
       "    </tr>\n",
       "  </tbody>\n",
       "</table>\n",
       "</div>"
      ],
      "text/plain": [
       "                 Predicted Negative  Predicted Positive\n",
       "Actual Negative                  31                  30\n",
       "Actual Positive                  33                 106"
      ]
     },
     "execution_count": 161,
     "metadata": {},
     "output_type": "execute_result"
    }
   ],
   "source": [
    "\n",
    "pd.DataFrame(confusion_matrix(y_test_clean_less, predictions), \n",
    "             columns=['Predicted Negative', 'Predicted Positive'], \n",
    "             index=['Actual Negative', 'Actual Positive'])"
   ]
  },
  {
   "cell_type": "code",
   "execution_count": 162,
   "metadata": {},
   "outputs": [],
   "source": [
    "probs = rfc.predict_proba(X_test_clean_less)"
   ]
  },
  {
   "cell_type": "code",
   "execution_count": 163,
   "metadata": {},
   "outputs": [],
   "source": [
    "probs=probs[:,1]"
   ]
  },
  {
   "cell_type": "code",
   "execution_count": 164,
   "metadata": {},
   "outputs": [
    {
     "name": "stdout",
     "output_type": "stream",
     "text": [
      "AUC: 0.81\n"
     ]
    }
   ],
   "source": [
    "auc = roc_auc_score(y_test_clean_less, probs)\n",
    "print('AUC: %.2f' % auc)"
   ]
  },
  {
   "cell_type": "code",
   "execution_count": 165,
   "metadata": {},
   "outputs": [],
   "source": [
    "fpr, tpr, thresholds = roc_curve(y_test_clean_less, probs)"
   ]
  },
  {
   "cell_type": "code",
   "execution_count": 166,
   "metadata": {},
   "outputs": [
    {
     "data": {
      "image/png": "[encoded data removed]",
      "text/plain": [
       "<Figure size 432x288 with 1 Axes>"
      ]
     },
     "metadata": {},
     "output_type": "display_data"
    }
   ],
   "source": [
    "def plot_roc_curve(fpr, tpr):\n",
    "    plt.plot(fpr, tpr, color='orange', label='ROC')\n",
    "    plt.plot([0, 1], [0, 1], color='darkblue', linestyle='--')\n",
    "    plt.xlabel('False Positive Rate')\n",
    "    plt.ylabel('True Positive Rate')\n",
    "    plt.title('Receiver Operating Characteristic (ROC) Curve')\n",
    "    plt.legend()\n",
    "    plt.show()\n",
    "\n",
    "\n",
    "plot_roc_curve(fpr, tpr)"
   ]
  },
  {
   "cell_type": "code",
   "execution_count": null,
   "metadata": {},
   "outputs": [],
   "source": []
  }
 ],
 "metadata": {
  "kernelspec": {
   "display_name": "Python 3",
   "language": "python",
   "name": "python3"
  },
  "language_info": {
   "codemirror_mode": {
    "name": "ipython",
    "version": 3
   },
   "file_extension": ".py",
   "mimetype": "text/x-python",
   "name": "python",
   "nbconvert_exporter": "python",
   "pygments_lexer": "ipython3",
   "version": "3.7.5"
  }
 },
 "nbformat": 4,
 "nbformat_minor": 2
}
